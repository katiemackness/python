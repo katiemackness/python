{
 "cells": [
  {
   "cell_type": "code",
   "execution_count": 1,
   "id": "6ee45903-1348-4f75-8cd4-5c35c2b48759",
   "metadata": {},
   "outputs": [],
   "source": [
    "# Katlyn Mackness\n",
    "# 19/05/2024\n",
    "# Modulo 5 Tarea"
   ]
  },
  {
   "cell_type": "code",
   "execution_count": 21,
   "id": "ad2cd47e-235a-4ea5-90bb-c9cf86ad66d1",
   "metadata": {},
   "outputs": [
    {
     "name": "stdout",
     "output_type": "stream",
     "text": [
      "cba321\n"
     ]
    }
   ],
   "source": [
    "# Parte 1\n",
    "\n",
    "# Desarrolle un programa en Python que a través \n",
    "# de una función denominada “Invierte_cadena” sea capaz \n",
    "# de invertir una cadena de caracteres.\n",
    "\n",
    "def Invierte_cadena(cadena):\n",
    "    start = 0\n",
    "    end = cadena[-1]\n",
    "    cadena_invertida = \"\"\n",
    "\n",
    "    i = 1\n",
    "    while i <= len(cadena):\n",
    "        cadena_invertida += cadena[-i]\n",
    "        i += 1\n",
    "    return cadena_invertida\n",
    "\n",
    "cadena_invertida = Invierte_cadena(\"123abc\")\n",
    "print(cadena_invertida)\n"
   ]
  },
  {
   "cell_type": "code",
   "execution_count": 81,
   "id": "5631cb97-acd9-492a-95d0-f4df40279489",
   "metadata": {},
   "outputs": [
    {
     "data": {
      "text/plain": [
       "True"
      ]
     },
     "execution_count": 81,
     "metadata": {},
     "output_type": "execute_result"
    }
   ],
   "source": [
    "# Parte 2\n",
    "\n",
    "# Escribe una función en Python llamada “prueba_primo” \n",
    "# que tome un número como parámetro y compruebe si el número es primo o no.\n",
    "\n",
    "# Por ejemplo, si ejecutamos: prueba_primo(7)\n",
    "\n",
    "# debemos obtener: True\n",
    "\n",
    "def prueba_primo(numero, divisor=2):\n",
    "    if numero % divisor == 0:\n",
    "        return False\n",
    "    elif divisor > numero/2:\n",
    "        return True\n",
    "    else:\n",
    "         divisor += 1\n",
    "         return prueba_primo(numero, divisor)\n",
    "        \n",
    "prueba_primo(7)"
   ]
  },
  {
   "cell_type": "code",
   "execution_count": null,
   "id": "aa548546-cae1-4071-a760-6a6adf093a55",
   "metadata": {},
   "outputs": [],
   "source": []
  }
 ],
 "metadata": {
  "kernelspec": {
   "display_name": "Python 3 (ipykernel)",
   "language": "python",
   "name": "python3"
  },
  "language_info": {
   "codemirror_mode": {
    "name": "ipython",
    "version": 3
   },
   "file_extension": ".py",
   "mimetype": "text/x-python",
   "name": "python",
   "nbconvert_exporter": "python",
   "pygments_lexer": "ipython3",
   "version": "3.11.7"
  }
 },
 "nbformat": 4,
 "nbformat_minor": 5
}
