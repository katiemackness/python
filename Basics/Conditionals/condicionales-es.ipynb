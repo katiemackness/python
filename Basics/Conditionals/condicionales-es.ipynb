{
 "cells": [
  {
   "cell_type": "markdown",
   "id": "849a1e29-7bbe-4a3e-8a65-704d6225613c",
   "metadata": {},
   "source": [
    "# Python - Instrucciones de control\n",
    "Katlyn Mackness <br>\n",
    "02/05/24 - Updated 19/02/2025"
   ]
  },
  {
   "cell_type": "code",
   "execution_count": 1,
   "id": "c7fe68ef-fef8-4977-93f3-112fa9ac4c85",
   "metadata": {},
   "outputs": [
    {
     "name": "stdout",
     "output_type": "stream",
     "text": [
      "Caso 1 es: 350\n",
      "Caso 2 es: 381.6\n",
      "Caso 3 es: 1035.0\n"
     ]
    }
   ],
   "source": [
    "# Calcula el pago del empleado\n",
    "def calcular_horas(horas, tarifa):\n",
    "    if horas <= 40: \n",
    "        pago = horas * tarifa\n",
    "    elif horas > 40 and horas <= 50: \n",
    "            pago = (40 * tarifa) + ((horas - 40) * tarifa * 1.1)\n",
    "    elif horas > 50: \n",
    "        pago = (40 * tarifa) + (11 * tarifa) + ((horas - 50) * tarifa * 1.2)\n",
    "    return pago\n",
    "    # Si numeros son invalidos"
   ]
  },
  {
   "cell_type": "code",
   "execution_count": 35,
   "id": "646ae966-f16c-49b0-bc54-52db6e9d21f5",
   "metadata": {},
   "outputs": [
    {
     "name": "stdout",
     "output_type": "stream",
     "text": [
      "¿Cual es su numero? 2\n",
      "¿Cuantas horas trabajó? 47\n"
     ]
    },
    {
     "name": "stdout",
     "output_type": "stream",
     "text": [
      "Empleado 2 ganó 381.6\n"
     ]
    }
   ],
   "source": [
    "# Recibe cuantas horas trabajó el empleado y imprime el pago total\n",
    "\n",
    "# Caso 1: horas = 35; tarifa = 10; pago = 350\n",
    "# Caso 2: horas = 47; tarifa = 8; pago = 381.6\n",
    "# Caso 3: horas = 65; tarifa = 15; pago = 1035\n",
    "casos = {1:10, 2:8, 3:15}\n",
    "\n",
    "caso_numero = input(\"¿Cual es su numero?\")\n",
    "# Validar numero\n",
    "try: caso_numero = int(caso_numero)\n",
    "except: caso_numero = -1\n",
    "\n",
    "if caso_numero > 0:\n",
    "    horas_input = input(\"¿Cuantas horas trabajó?\")\n",
    "    # Validar horas\n",
    "    try: horas_input = int(horas_input)\n",
    "    except: horas_input = -1\n",
    "\n",
    "    if horas_input > 0:\n",
    "        tarifa = casos[caso_numero]\n",
    "        print(\"Empleado\", caso_numero, \"ganó\", calcular_horas(horas_input, tarifa))\n",
    "    else: print(\"Parametros incorrectos\")\n",
    "else: print(\"Parametros incorrectos\")"
   ]
  },
  {
   "cell_type": "code",
   "execution_count": null,
   "id": "e9520c5d-2057-4c70-8128-21231e7d5a4d",
   "metadata": {},
   "outputs": [],
   "source": []
  }
 ],
 "metadata": {
  "kernelspec": {
   "display_name": "Python 3 (ipykernel)",
   "language": "python",
   "name": "python3"
  },
  "language_info": {
   "codemirror_mode": {
    "name": "ipython",
    "version": 3
   },
   "file_extension": ".py",
   "mimetype": "text/x-python",
   "name": "python",
   "nbconvert_exporter": "python",
   "pygments_lexer": "ipython3",
   "version": "3.11.7"
  }
 },
 "nbformat": 4,
 "nbformat_minor": 5
}
