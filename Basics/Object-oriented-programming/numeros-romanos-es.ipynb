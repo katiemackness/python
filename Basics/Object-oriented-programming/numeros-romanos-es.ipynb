{
 "cells": [
  {
   "cell_type": "markdown",
   "id": "54775487",
   "metadata": {},
   "source": [
    "# Python Programación Orientada a Objetos (POO) \n",
    "Katlyn Mackness <br>\n",
    "\n",
    "### Descripción\n",
    "Un programa que convierte un número romano en un numero entero."
   ]
  },
  {
   "cell_type": "code",
   "execution_count": null,
   "id": "c0754cb5-d943-486e-9f79-0e9367490360",
   "metadata": {},
   "outputs": [
    {
     "name": "stdout",
     "output_type": "stream",
     "text": [
      "Resultado:  3986\n"
     ]
    }
   ],
   "source": [
    "class Conversion:\n",
    "    \"\"\"Cambiar un numero romano en un numero entero\"\"\"\n",
    "    def __init__(self):\n",
    "        \"\"\"Initializar los variables\"\"\"\n",
    "        self.i = 1\n",
    "        self.v = 5\n",
    "        self.x = 10\n",
    "        self.l = 50\n",
    "        self.c = 100\n",
    "        self.d = 500\n",
    "        self.m = 1000\n",
    "\n",
    "    def convertir(self, char):\n",
    "        \"\"\"Cambiar los caractares individuales\"\"\"\n",
    "        char = char.upper()\n",
    "        if char == 'M':\n",
    "            return self.m\n",
    "        elif char == 'D':\n",
    "            return self.d\n",
    "        elif char == 'C':\n",
    "            return self.c\n",
    "        elif char == 'L':\n",
    "            return self.l\n",
    "        elif char == 'X':\n",
    "            return self.x\n",
    "        elif char == 'V':\n",
    "            return self.v\n",
    "        elif char == 'I':\n",
    "            return self.i\n",
    "        else:\n",
    "            print(\"Invalido\")\n",
    "\n",
    "    def romano_entero(self, entrada):\n",
    "        \"\"\"Calcular el numero romano\"\"\"\n",
    "        # Leer los caracteres uno a la vez.\n",
    "        # I=1, V=5, X=10, L=50, C=100, D=500, M=1,000\n",
    "        # Si un símbolo se coloca después de otro de igual o menor valor, suma su valor\n",
    "        # Si un símbolo se coloca antes de uno de mayor valor\n",
    "        #  resta el valor del primero del segundo.\n",
    "\n",
    "        entero = 0\n",
    "        i = 0\n",
    "        while i < len(entrada):\n",
    "            char_1 = self.convertir(entrada[i])\n",
    "            \n",
    "            if i+1 < len(entrada):\n",
    "                char_2 = self.convertir(entrada[i+1])\n",
    "                \n",
    "                if char_1 >= char_2:\n",
    "                    entero += char_1\n",
    "                    i += 1\n",
    "                else:\n",
    "                    entero += (char_2 - char_1)\n",
    "                    i += 2\n",
    "               \n",
    "            else:\n",
    "                entero += char_1\n",
    "                return entero\n",
    "        \n",
    "numero = Conversion()\n",
    "resultado = numero.romano_entero('MMMCMLXXXVI')\n",
    "print(\"Resultado: \", resultado)"
   ]
  }
 ],
 "metadata": {
  "kernelspec": {
   "display_name": "Python 3 (ipykernel)",
   "language": "python",
   "name": "python3"
  },
  "language_info": {
   "codemirror_mode": {
    "name": "ipython",
    "version": 3
   },
   "file_extension": ".py",
   "mimetype": "text/x-python",
   "name": "python",
   "nbconvert_exporter": "python",
   "pygments_lexer": "ipython3",
   "version": "3.11.7"
  }
 },
 "nbformat": 4,
 "nbformat_minor": 5
}
