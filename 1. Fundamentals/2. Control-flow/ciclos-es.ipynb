{
 "cells": [
  {
   "cell_type": "markdown",
   "id": "6ce55e69-3fd8-4fa7-b1e1-344776b237e7",
   "metadata": {},
   "source": [
    "# Python Ciclos Ejemplos\n",
    "Katlyn Mackness <br>\n",
    "15/05/2024 - Updated 19/02/2025\n",
    "\n",
    "## Introducción\n",
    "Este notebook, titulado \"Python Ciclos Ejemplos\", contiene varios ejemplos prácticos sobre el uso de ciclos `while` en Python para resolver problemas matemáticos comunes. Los ejercicios están enfocados en dos temas principales: determinar si un número puede ser expresado como una potencia de 2 y calcular el factorial de un número ingresado por el usuario. Cada sección incluye diferentes casos para practicar la lógica de control de flujo y la validación de entradas.\n",
    "\n",
    "### Contentidos\n",
    "1. Potencias de 2\n",
    "2. Cálculo de Factorial\n"
   ]
  },
  {
   "cell_type": "markdown",
   "id": "7c05800a",
   "metadata": {},
   "source": [
    "## Potencias de 2\n",
    "En esta sección se presentan varios casos donde el usuario ingresa un número y el programa determina si dicho número puede ser expresado como una potencia de 2 (es decir, si existe un entero K tal que n = 2^K). Se utiliza un ciclo `while` para realizar la comprobación y se valida la entrada para asegurar que sea un número entero positivo."
   ]
  },
  {
   "cell_type": "code",
   "execution_count": 1,
   "id": "251eb5b7-361d-4703-8d6a-25465932971d",
   "metadata": {},
   "outputs": [
    {
     "name": "stdout",
     "output_type": "stream",
     "text": [
      "Si n = 8, Puede ser expresado como 2^3=8\n"
     ]
    }
   ],
   "source": [
    "# Determine si un número puede ser expresado como 2^K donde K es entero\n",
    "n = input(\"Please enter a number: \") # Ej. 8\n",
    "\n",
    "#Validar entero\n",
    "try:\n",
    "    n = int(n)\n",
    "except:\n",
    "    n = -1\n",
    "    \n",
    "if n > 1:\n",
    "    i = 1\n",
    "    while i < 100:\n",
    "        expresion = 2**i\n",
    "        if expresion == n:\n",
    "            print(f\"Si n = {n}, Puede ser expresado como 2^{i}={n}\")\n",
    "            break\n",
    "        if expresion > n:\n",
    "            print(f\"Si n = {n}, No puede ser expresado como 2^K={n}\")\n",
    "            break\n",
    "        i += 1\n",
    "else:\n",
    "    print(\"Error de captura\")"
   ]
  },
  {
   "cell_type": "code",
   "execution_count": 2,
   "id": "8f4f203f-ad32-4137-9c14-6cebeaad5c7a",
   "metadata": {},
   "outputs": [
    {
     "name": "stdout",
     "output_type": "stream",
     "text": [
      "Si n = 32, Puede ser expresado como 2^5=32\n"
     ]
    }
   ],
   "source": [
    "# Determine si un número puede ser expresado como 2^K donde K es entero\n",
    "n = input(\"Please enter a number: \") # Ej. 32\n",
    "\n",
    "#Validar entero\n",
    "try:\n",
    "    n = int(n)\n",
    "except:\n",
    "    n = -1\n",
    "    \n",
    "if n > 1:\n",
    "    i = 1\n",
    "    while i < 100:\n",
    "        expresion = 2**i\n",
    "        if expresion == n:\n",
    "            print(f\"Si n = {n}, Puede ser expresado como 2^{i}={n}\")\n",
    "            break\n",
    "        if expresion > n:\n",
    "            print(f\"Si n = {n}, No puede ser expresado como 2^K={n}\")\n",
    "            break\n",
    "        i += 1\n",
    "else:\n",
    "    print(\"Error de captura\")"
   ]
  },
  {
   "cell_type": "code",
   "execution_count": 3,
   "id": "d664c116-9194-4400-b966-56a282108020",
   "metadata": {},
   "outputs": [
    {
     "name": "stdout",
     "output_type": "stream",
     "text": [
      "Si n = 40, No puede ser expresado como 2^K=40\n"
     ]
    }
   ],
   "source": [
    "# Determine si un número puede ser expresado como 2^K donde K es entero\n",
    "n = input(\"Please enter a number: \") # Ej. 40\n",
    "\n",
    "#Validar entero\n",
    "try:\n",
    "    n = int(n)\n",
    "except:\n",
    "    n = -1\n",
    "    \n",
    "if n > 1:\n",
    "    i = 1\n",
    "    while i < 100:\n",
    "        expresion = 2**i\n",
    "        if expresion == n:\n",
    "            print(f\"Si n = {n}, Puede ser expresado como 2^{i}={n}\")\n",
    "            break\n",
    "        if expresion > n:\n",
    "            print(f\"Si n = {n}, No puede ser expresado como 2^K={n}\")\n",
    "            break\n",
    "        i += 1\n",
    "else:\n",
    "    print(\"Error de captura\")"
   ]
  },
  {
   "cell_type": "markdown",
   "id": "7956cb5a",
   "metadata": {},
   "source": [
    "## Cálculo de Factorial\n",
    "Aquí se muestran ejemplos para calcular el factorial de un número proporcionado por el usuario. El factorial se calcula utilizando un ciclo `while`, multiplicando secuencialmente los números desde 1 hasta n. Se valida la entrada para asegurar que sea un número entero mayor que 1. El resultado se muestra tanto en forma de producto como en el valor final del factorial."
   ]
  },
  {
   "cell_type": "code",
   "execution_count": 4,
   "id": "66816201-37a9-4f82-aef2-d522353d96a3",
   "metadata": {},
   "outputs": [
    {
     "name": "stdout",
     "output_type": "stream",
     "text": [
      "4! = (1)(2)(3)(4) = 24\n"
     ]
    }
   ],
   "source": [
    "# Calcule el factoria del número que indique el usario\n",
    "# n!= 1(2)(3)...n Por ejemplo: 4!=1(2)(3)(4) = 24\n",
    "\n",
    "n = input(\"Please enter a number: \") # Ej. 4\n",
    "\n",
    "#Validar entero\n",
    "try:\n",
    "    n = int(n)\n",
    "except:\n",
    "    n = -1\n",
    "    \n",
    "if n > 1:\n",
    "    i = 1\n",
    "    producto = 1\n",
    "    string = \"\"\n",
    "    while i < n + 1:\n",
    "        producto = producto * i \n",
    "        string = string + \"(\" + str(i) + \")\"\n",
    "        i += 1\n",
    "        continue\n",
    "    print(f\"{n}! = {string} = {producto}\")\n",
    "else:\n",
    "    print(\"Error de captura\")"
   ]
  },
  {
   "cell_type": "code",
   "execution_count": 6,
   "id": "10c02a39-f4db-417a-bbab-243c7809b689",
   "metadata": {},
   "outputs": [
    {
     "name": "stdout",
     "output_type": "stream",
     "text": [
      "Error de captura\n"
     ]
    }
   ],
   "source": [
    "# Calcule el factoria del número que indique el usario\n",
    "# n!= 1(2)(3)...n Por ejemplo: 4!=1(2)(3)(4) = 24\n",
    "\n",
    "n = input(\"Please enter a number: \")  # Ej: 7.5\n",
    "\n",
    "#Validar entero\n",
    "try:\n",
    "    n = int(n)\n",
    "except:\n",
    "    n = -1\n",
    "    \n",
    "if n > 1:\n",
    "    i = 1\n",
    "    producto = 1\n",
    "    string = \"\"\n",
    "    while i < n + 1:\n",
    "        producto = producto * i \n",
    "        string = string + \"(\" + str(i) + \")\"\n",
    "        i += 1\n",
    "        continue\n",
    "    print(f\"{n}! = {string} = {producto}\")\n",
    "else:\n",
    "    print(\"Error de captura\")"
   ]
  },
  {
   "cell_type": "markdown",
   "id": "3a9f6166",
   "metadata": {},
   "source": [
    "## Conclusion\n",
    "Este notebook es ideal para quienes desean practicar la lógica de ciclos y la validación de datos en Python, aplicando estos conceptos a problemas matemáticos básicos."
   ]
  },
  {
   "cell_type": "markdown",
   "id": "a7411002",
   "metadata": {},
   "source": []
  }
 ],
 "metadata": {
  "kernelspec": {
   "display_name": "Python 3",
   "language": "python",
   "name": "python3"
  },
  "language_info": {
   "codemirror_mode": {
    "name": "ipython",
    "version": 3
   },
   "file_extension": ".py",
   "mimetype": "text/x-python",
   "name": "python",
   "nbconvert_exporter": "python",
   "pygments_lexer": "ipython3",
   "version": "3.12.1"
  }
 },
 "nbformat": 4,
 "nbformat_minor": 5
}
