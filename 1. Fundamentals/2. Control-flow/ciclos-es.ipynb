{
 "cells": [
  {
   "cell_type": "markdown",
   "id": "6ce55e69-3fd8-4fa7-b1e1-344776b237e7",
   "metadata": {},
   "source": [
    "# Python Ciclos Ejemplos\n",
    "Katlyn Mackness <br>\n",
    "15/05/2024 - Updated 19/02/2025\n",
    "\n",
    "## Descripción\n",
    "Varios ejemplos de ciclos para calculaciones "
   ]
  },
  {
   "cell_type": "code",
   "execution_count": 1,
   "id": "251eb5b7-361d-4703-8d6a-25465932971d",
   "metadata": {},
   "outputs": [
    {
     "name": "stdout",
     "output_type": "stream",
     "text": [
      "Caso 1\n"
     ]
    },
    {
     "name": "stdout",
     "output_type": "stream",
     "text": [
      "Please enter a number:  8\n"
     ]
    },
    {
     "name": "stdout",
     "output_type": "stream",
     "text": [
      "Si n = 8, Puede ser expresado como 2^3=8\n"
     ]
    }
   ],
   "source": [
    "# Parte 1\n",
    "# Caso 1 - n = 8\n",
    "# Determine si un número puede ser expresado como 2^K donde K es entero\n",
    "\n",
    "print(\"Caso 1\")\n",
    "n = input(\"Please enter a number: \")\n",
    "\n",
    "#Validar entero\n",
    "try:\n",
    "    n = int(n)\n",
    "except:\n",
    "    n = -1\n",
    "    \n",
    "if n > 1:\n",
    "    i = 1\n",
    "    while i < 100:\n",
    "        expresion = 2**i\n",
    "        if expresion == n:\n",
    "            print(f\"Si n = {n}, Puede ser expresado como 2^{i}={n}\")\n",
    "            break\n",
    "        if expresion > n:\n",
    "            print(f\"Si n = {n}, No puede ser expresado como 2^K={n}\")\n",
    "            break\n",
    "        i += 1\n",
    "else:\n",
    "    print(\"Error de captura\")"
   ]
  },
  {
   "cell_type": "code",
   "execution_count": 2,
   "id": "8f4f203f-ad32-4137-9c14-6cebeaad5c7a",
   "metadata": {},
   "outputs": [
    {
     "name": "stdout",
     "output_type": "stream",
     "text": [
      "Caso 2\n"
     ]
    },
    {
     "name": "stdout",
     "output_type": "stream",
     "text": [
      "Please enter a number:  32\n"
     ]
    },
    {
     "name": "stdout",
     "output_type": "stream",
     "text": [
      "Si n = 32, Puede ser expresado como 2^5=32\n"
     ]
    }
   ],
   "source": [
    "# Parte 1\n",
    "# Caso 2 - n = 32\n",
    "# Determine si un número puede ser expresado como 2^K donde K es entero\n",
    "\n",
    "print(\"Caso 2\")\n",
    "n = input(\"Please enter a number: \")\n",
    "\n",
    "#Validar entero\n",
    "try:\n",
    "    n = int(n)\n",
    "except:\n",
    "    n = -1\n",
    "    \n",
    "if n > 1:\n",
    "    i = 1\n",
    "    while i < 100:\n",
    "        expresion = 2**i\n",
    "        if expresion == n:\n",
    "            print(f\"Si n = {n}, Puede ser expresado como 2^{i}={n}\")\n",
    "            break\n",
    "        if expresion > n:\n",
    "            print(f\"Si n = {n}, No puede ser expresado como 2^K={n}\")\n",
    "            break\n",
    "        i += 1\n",
    "else:\n",
    "    print(\"Error de captura\")"
   ]
  },
  {
   "cell_type": "code",
   "execution_count": 3,
   "id": "d664c116-9194-4400-b966-56a282108020",
   "metadata": {},
   "outputs": [
    {
     "name": "stdout",
     "output_type": "stream",
     "text": [
      "Caso 3\n"
     ]
    },
    {
     "name": "stdout",
     "output_type": "stream",
     "text": [
      "Please enter a number:  40\n"
     ]
    },
    {
     "name": "stdout",
     "output_type": "stream",
     "text": [
      "Si n = 40, No puede ser expresado como 2^K=40\n"
     ]
    }
   ],
   "source": [
    "# Parte 1\n",
    "# Caso 3 - n = 40\n",
    "# Determine si un número puede ser expresado como 2^K donde K es entero\n",
    "\n",
    "print(\"Caso 3\")\n",
    "n = input(\"Please enter a number: \")\n",
    "\n",
    "#Validar entero\n",
    "try:\n",
    "    n = int(n)\n",
    "except:\n",
    "    n = -1\n",
    "    \n",
    "if n > 1:\n",
    "    i = 1\n",
    "    while i < 100:\n",
    "        expresion = 2**i\n",
    "        if expresion == n:\n",
    "            print(f\"Si n = {n}, Puede ser expresado como 2^{i}={n}\")\n",
    "            break\n",
    "        if expresion > n:\n",
    "            print(f\"Si n = {n}, No puede ser expresado como 2^K={n}\")\n",
    "            break\n",
    "        i += 1\n",
    "else:\n",
    "    print(\"Error de captura\")"
   ]
  },
  {
   "cell_type": "code",
   "execution_count": 11,
   "id": "66816201-37a9-4f82-aef2-d522353d96a3",
   "metadata": {},
   "outputs": [
    {
     "name": "stdout",
     "output_type": "stream",
     "text": [
      "Caso 1\n"
     ]
    },
    {
     "name": "stdout",
     "output_type": "stream",
     "text": [
      "Please enter a number:  4\n"
     ]
    },
    {
     "name": "stdout",
     "output_type": "stream",
     "text": [
      "4! = (1)(2)(3)(4) = 24\n"
     ]
    }
   ],
   "source": [
    "# Parte 2\n",
    "# Caso 1 - n = 4\n",
    "# Calcule el factoria del número que indique el usario\n",
    "\n",
    "# n!= 1(2)(3)...n Por ejemplo: 4!=1(2)(3)(4) = 24\n",
    "\n",
    "print(\"Caso 1\")\n",
    "n = input(\"Please enter a number: \")\n",
    "\n",
    "#Validar entero\n",
    "try:\n",
    "    n = int(n)\n",
    "except:\n",
    "    n = -1\n",
    "    \n",
    "if n > 1:\n",
    "    i = 1\n",
    "    producto = 1\n",
    "    string = \"\"\n",
    "    while i < n + 1:\n",
    "        producto = producto * i \n",
    "        string = string + \"(\" + str(i) + \")\"\n",
    "        i += 1\n",
    "        continue\n",
    "    print(f\"{n}! = {string} = {producto}\")\n",
    "else:\n",
    "    print(\"Error de captura\")"
   ]
  },
  {
   "cell_type": "code",
   "execution_count": 4,
   "id": "a345174f-3474-4ac1-89f1-b8f150897a6c",
   "metadata": {},
   "outputs": [
    {
     "name": "stdout",
     "output_type": "stream",
     "text": [
      "Caso 2\n"
     ]
    },
    {
     "name": "stdout",
     "output_type": "stream",
     "text": [
      "Please enter a number:  5\n"
     ]
    },
    {
     "name": "stdout",
     "output_type": "stream",
     "text": [
      "5! = (1)(2)(3)(4)(5) = 120\n"
     ]
    }
   ],
   "source": [
    "# Parte 2\n",
    "# Caso 2 - n = 5\n",
    "# Calcule el factoria del número que indique el usario\n",
    "\n",
    "# n!= 1(2)(3)...n Por ejemplo: 4!=1(2)(3)(4) = 24\n",
    "\n",
    "print(\"Caso 2\")\n",
    "n = input(\"Please enter a number: \")\n",
    "\n",
    "#Validar entero\n",
    "try:\n",
    "    n = int(n)\n",
    "except:\n",
    "    n = -1\n",
    "    \n",
    "if n > 1:\n",
    "    i = 1\n",
    "    producto = 1\n",
    "    string = \"\"\n",
    "    while i < n + 1:\n",
    "        producto = producto * i \n",
    "        string = string + \"(\" + str(i) + \")\"\n",
    "        i += 1\n",
    "        continue\n",
    "    print(f\"{n}! = {string} = {producto}\")\n",
    "else:\n",
    "    print(\"Error de captura\")"
   ]
  },
  {
   "cell_type": "code",
   "execution_count": 5,
   "id": "8fe0a34f-1d29-4d9b-9824-7fc47659f42f",
   "metadata": {},
   "outputs": [
    {
     "name": "stdout",
     "output_type": "stream",
     "text": [
      "Caso 3\n"
     ]
    },
    {
     "name": "stdout",
     "output_type": "stream",
     "text": [
      "Please enter a number:  6\n"
     ]
    },
    {
     "name": "stdout",
     "output_type": "stream",
     "text": [
      "6! = (1)(2)(3)(4)(5)(6) = 720\n"
     ]
    }
   ],
   "source": [
    "# Parte 2\n",
    "# Caso 3 - n = 6\n",
    "# Calcule el factoria del número que indique el usario\n",
    "\n",
    "# n!= 1(2)(3)...n Por ejemplo: 4!=1(2)(3)(4) = 24\n",
    "\n",
    "print(\"Caso 3\")\n",
    "n = input(\"Please enter a number: \")\n",
    "\n",
    "#Validar entero\n",
    "try:\n",
    "    n = int(n)\n",
    "except:\n",
    "    n = -1\n",
    "    \n",
    "if n > 1:\n",
    "    i = 1\n",
    "    producto = 1\n",
    "    string = \"\"\n",
    "    while i < n + 1:\n",
    "        producto = producto * i \n",
    "        string = string + \"(\" + str(i) + \")\"\n",
    "        i += 1\n",
    "        continue\n",
    "    print(f\"{n}! = {string} = {producto}\")\n",
    "else:\n",
    "    print(\"Error de captura\")"
   ]
  },
  {
   "cell_type": "code",
   "execution_count": 6,
   "id": "10c02a39-f4db-417a-bbab-243c7809b689",
   "metadata": {},
   "outputs": [
    {
     "name": "stdout",
     "output_type": "stream",
     "text": [
      "Caso 4\n"
     ]
    },
    {
     "name": "stdout",
     "output_type": "stream",
     "text": [
      "Please enter a number:  7.5\n"
     ]
    },
    {
     "name": "stdout",
     "output_type": "stream",
     "text": [
      "Error de captura\n"
     ]
    }
   ],
   "source": [
    "# Parte 2\n",
    "# Caso 4 - n = 7.5\n",
    "# Calcule el factoria del número que indique el usario\n",
    "\n",
    "# n!= 1(2)(3)...n Por ejemplo: 4!=1(2)(3)(4) = 24\n",
    "\n",
    "print(\"Caso 4\")\n",
    "n = input(\"Please enter a number: \")\n",
    "\n",
    "#Validar entero\n",
    "try:\n",
    "    n = int(n)\n",
    "except:\n",
    "    n = -1\n",
    "    \n",
    "if n > 1:\n",
    "    i = 1\n",
    "    producto = 1\n",
    "    string = \"\"\n",
    "    while i < n + 1:\n",
    "        producto = producto * i \n",
    "        string = string + \"(\" + str(i) + \")\"\n",
    "        i += 1\n",
    "        continue\n",
    "    print(f\"{n}! = {string} = {producto}\")\n",
    "else:\n",
    "    print(\"Error de captura\")"
   ]
  },
  {
   "cell_type": "code",
   "execution_count": null,
   "id": "80afea72-66dc-4529-92ab-cee20e273b42",
   "metadata": {},
   "outputs": [],
   "source": []
  }
 ],
 "metadata": {
  "kernelspec": {
   "display_name": "Python 3 (ipykernel)",
   "language": "python",
   "name": "python3"
  },
  "language_info": {
   "codemirror_mode": {
    "name": "ipython",
    "version": 3
   },
   "file_extension": ".py",
   "mimetype": "text/x-python",
   "name": "python",
   "nbconvert_exporter": "python",
   "pygments_lexer": "ipython3",
   "version": "3.11.7"
  }
 },
 "nbformat": 4,
 "nbformat_minor": 5
}
