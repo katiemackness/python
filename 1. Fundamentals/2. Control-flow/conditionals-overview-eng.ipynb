{
 "cells": [
  {
   "cell_type": "markdown",
   "id": "849a1e29-7bbe-4a3e-8a65-704d6225613c",
   "metadata": {},
   "source": [
    "# Conditionals in Python\n",
    "Katlyn Mackness <br>\n",
    "02/05/24 - Updated 15/04/2025"
   ]
  },
  {
   "cell_type": "markdown",
   "id": "32999073",
   "metadata": {},
   "source": [
    "## Introduction\n",
    "This notebook serves as a structured guide to understanding and implementing conditionals in Python. Conditionals are fundamental in programming, allowing decisions to be made based on logic and comparisons. By using statements like if, elif, and else, we can control the flow of execution based on specific conditions.\n",
    "<br><br>\n",
    "In this notebook, I demonstrate the application of conditionals in various scenarios, explore nested conditionals, work with Boolean expressions, and optimize conditional logic for efficiency. It includes practical applications, optimized conditional logic, and interactive examples that demonstrate proficiency in handling control flow within Python programs. This collection reflects not only technical understanding but also the ability to craft readable and logically sound code that can be applied to real-world scenarios.\n",
    "\n",
    "### Contents\n",
    "1. Conditional Basics\n",
    "2. Nested Conditionals\n",
    "3. Boolean Expressions & Comparison Operators\n",
    "4. Using Conditionals with Loops\n",
    "5. Error Handling with Conditionals\n",
    "6. Practical Examples"
   ]
  },
  {
   "cell_type": "markdown",
   "id": "220970cf",
   "metadata": {},
   "source": [
    "## 1. Basic Conditional Statements\n",
    "Conditionals control flow based on logical evaluatins. "
   ]
  },
  {
   "cell_type": "code",
   "execution_count": 1,
   "id": "28986a89",
   "metadata": {},
   "outputs": [
    {
     "name": "stdout",
     "output_type": "stream",
     "text": [
      "Positive number\n"
     ]
    }
   ],
   "source": [
    "# Check if a number is positive\n",
    "num = 10\n",
    "if num > 0:\n",
    "    print(\"Positive number\")"
   ]
  },
  {
   "cell_type": "code",
   "execution_count": 2,
   "id": "2c0d390b",
   "metadata": {},
   "outputs": [
    {
     "name": "stdout",
     "output_type": "stream",
     "text": [
      "The number is positive.\n"
     ]
    }
   ],
   "source": [
    "# Use if/elif/else to check multiple conditions\n",
    "number = 15\n",
    "\n",
    "# Evaluate the condition. If true, execute the indented block.\n",
    "#  If not true, continue to next condition.\n",
    "if number > 0:  \n",
    "    print(\"The number is positive.\")\n",
    "elif number == 0: \n",
    "    print(\"The number is zero.\")\n",
    "else:\n",
    "    print(\"The numher is negative.\")"
   ]
  },
  {
   "cell_type": "markdown",
   "id": "6a063c1a",
   "metadata": {},
   "source": [
    "## 2. Nested Conditionals"
   ]
  },
  {
   "cell_type": "code",
   "execution_count": 3,
   "id": "83f5a6c5",
   "metadata": {},
   "outputs": [
    {
     "name": "stdout",
     "output_type": "stream",
     "text": [
      "You can vote but not drink\n"
     ]
    }
   ],
   "source": [
    "# Check if the person is over 18.\n",
    "#  If they are, check if they are over 21 (legal drinking age in the US)\n",
    "age = 20\n",
    "if age > 18:\n",
    "    if age >= 21:\n",
    "        print(\"You can legally drink\")\n",
    "    else:\n",
    "        print(\"You can vote but not drink\")"
   ]
  },
  {
   "cell_type": "markdown",
   "id": "5d055379",
   "metadata": {},
   "source": [
    "## 3. Boolean Expressions & Comparison Operators\n",
    "| operator | meaning      |\n",
    "|----------|--------------|\n",
    "| >        | greater than |\n",
    "| <        | less than    |\n",
    "| ==       | equal        |\n",
    "| !=       | not equal    |"
   ]
  },
  {
   "cell_type": "code",
   "execution_count": 4,
   "id": "27952258",
   "metadata": {},
   "outputs": [
    {
     "name": "stdout",
     "output_type": "stream",
     "text": [
      "Both conditions are True\n",
      "a and b are different\n"
     ]
    }
   ],
   "source": [
    "a, b = 5, 10\n",
    "if a < b and b > 0:\n",
    "    print(\"Both conditions are True\")\n",
    "\n",
    "if (a != b):\n",
    "    print(\"a and b are different\")\n"
   ]
  },
  {
   "cell_type": "markdown",
   "id": "9852f2f6",
   "metadata": {},
   "source": [
    "## 4. Using Conditionals with Loops"
   ]
  },
  {
   "cell_type": "code",
   "execution_count": 7,
   "id": "eec5fc5d",
   "metadata": {},
   "outputs": [
    {
     "name": "stdout",
     "output_type": "stream",
     "text": [
      "1 is odd\n",
      "2 is even\n",
      "3 is odd\n",
      "4 is even\n",
      "5 is odd\n"
     ]
    }
   ],
   "source": [
    "# Given a list of numbers, check if each one is even or odd\n",
    "numbers = [1, 2, 3, 4, 5]\n",
    "for num in numbers:\n",
    "    if num % 2 == 0:\n",
    "        print(f\"{num} is even\")\n",
    "    else:\n",
    "        print(f\"{num} is odd\")"
   ]
  },
  {
   "cell_type": "markdown",
   "id": "07ac7927",
   "metadata": {},
   "source": [
    "## 5. Error Handling\n",
    "In Python, `try` and `except` are useful commands for catching errors in code. This is especially useful with inputs, when users can enter unexpected values."
   ]
  },
  {
   "cell_type": "code",
   "execution_count": 9,
   "id": "8350eb07",
   "metadata": {},
   "outputs": [
    {
     "name": "stdout",
     "output_type": "stream",
     "text": [
      "Invalid input! Please enter a valid number.\n"
     ]
    }
   ],
   "source": [
    "try:\n",
    "    num = int(input(\"Enter a number: \"))\n",
    "    print(f\"You entered: {num}\")\n",
    "except ValueError:\n",
    "    print(\"Invalid input! Please enter a valid number.\")"
   ]
  },
  {
   "cell_type": "markdown",
   "id": "0dcb1ebe",
   "metadata": {},
   "source": [
    "## 6. Practical Example\n",
    "This short example calculates the salary of an employee based on hourly rate and the number of hours worked. This company offers additional pay for overtime in three possible scenarios:\n",
    "1. Employees working 40 hours or less are paid their standard rate.\n",
    "2. Employees working between 41 and 50 hours receive a 10% increase for overtime hours beyond 40.\n",
    "3. Employees working more than 50 hours get a 10% increase for hours between 41-50, and a 20% increase for any hours above 50."
   ]
  },
  {
   "cell_type": "code",
   "execution_count": 10,
   "id": "40b3391c",
   "metadata": {},
   "outputs": [],
   "source": [
    "# Define function for calculating hours\n",
    "def calculate_payment(hours, rate):\n",
    "    \"\"\"Calculates the salary of an employee based on hourly rate and the number of hours worked\"\"\"\n",
    "    if hours <= 40:\n",
    "        payment = hours * rate\n",
    "    elif 40 < hours <= 50:\n",
    "        payment = (40 * rate) + ((hours - 40) * rate * 1.1)\n",
    "    else:  # hours > 50\n",
    "        payment = (40 * rate) + (10 * rate * 1.1) + ((hours - 50) * rate * 1.2)\n",
    "    \n",
    "    return payment"
   ]
  },
  {
   "cell_type": "code",
   "execution_count": null,
   "id": "c7fe68ef-fef8-4977-93f3-112fa9ac4c85",
   "metadata": {},
   "outputs": [
    {
     "name": "stdout",
     "output_type": "stream",
     "text": [
      "Employee 1 earned 750.0\n"
     ]
    }
   ],
   "source": [
    "# Case 1: hours = 35; hourly rate = 10; pago = 350\n",
    "# Case 2: hours = 47; hourly rate = 8; pago = 381.6\n",
    "# Case 3: hours = 65; hourly rate = 15; pago = 1035\n",
    "\n",
    "# Store hourly rate per case number in a dictionary\n",
    "cases = {1:10, 2:8, 3:15}\n",
    "\n",
    "# Collect number of hours worked from the employee\n",
    "case_number = input(\"Enter your case number: \")  # Ex. input: 1\n",
    "\n",
    "# Validate case number\n",
    "try:\n",
    "    case_number = int(case_number)\n",
    "except ValueError:\n",
    "    case_number = -1\n",
    "\n",
    "if case_number in cases:\n",
    "    hours_input = input(\"How many hours did you work? \")  # Ex. input: 70\n",
    "\n",
    "    # Validate hours input\n",
    "    try:\n",
    "        hours_input = int(hours_input)\n",
    "    except ValueError:\n",
    "        hours_input = -1\n",
    "\n",
    "    if hours_input > 0:\n",
    "        rate = cases[case_number]\n",
    "        print(f\"Employee {case_number} earned {calculate_payment(hours_input, rate)}\")\n",
    "    else:\n",
    "        print(\"Invalid parameters\")\n",
    "else:\n",
    "    print(\"Invalid parameters\")"
   ]
  },
  {
   "cell_type": "markdown",
   "id": "48548d46",
   "metadata": {},
   "source": [
    "## Conclusion\n",
    "This notebook provides a comprehensive overview of conditional statements in Python, illustrating their importance in decision-making within programs. We work through a practical example of calculating employee pay based on their salary and hours worked, to show how conditionals are used in a real-world scenario.\n",
    "\n",
    "## References\n",
    "This notebook was created using concepts and examples inspired by *Python Crash Course* by Eric Matthes. \n",
    "\n",
    "For more information, you can find *Python Crash Course* here: [https://nostarch.com/pythoncrashcourse](https://nostarch.com/pythoncrashcourse).\n"
   ]
  },
  {
   "cell_type": "markdown",
   "id": "eb67de43",
   "metadata": {},
   "source": []
  }
 ],
 "metadata": {
  "kernelspec": {
   "display_name": "Python 3",
   "language": "python",
   "name": "python3"
  },
  "language_info": {
   "codemirror_mode": {
    "name": "ipython",
    "version": 3
   },
   "file_extension": ".py",
   "mimetype": "text/x-python",
   "name": "python",
   "nbconvert_exporter": "python",
   "pygments_lexer": "ipython3",
   "version": "3.12.1"
  }
 },
 "nbformat": 4,
 "nbformat_minor": 5
}
