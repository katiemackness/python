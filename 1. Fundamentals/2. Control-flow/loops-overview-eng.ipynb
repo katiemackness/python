{
 "cells": [
  {
   "cell_type": "markdown",
   "id": "6ce55e69-3fd8-4fa7-b1e1-344776b237e7",
   "metadata": {},
   "source": [
    "# Loops in Python\n",
    "Katlyn Mackness <br>\n",
    "17/05/2025\n",
    "\n",
    "## Introduction\n",
    "Loops are essential in programming to automate repetitive tasks and produce clean, efficient code. This notebook demonstrates my proficiency in the use of loops and their applications in data science workflows.\n",
    "\n",
    "### Contents\n",
    "1. [For Loops](#for-loops)\n",
    "2. [While Loops](#while-loops)\n",
    "3. [Nested Loops](#nested-loops)\n",
    "4. [Interactive Examples](#interactive-examples)"
   ]
  },
  {
   "cell_type": "markdown",
   "id": "4971d3b7",
   "metadata": {},
   "source": [
    "## For Loops"
   ]
  },
  {
   "cell_type": "code",
   "execution_count": null,
   "id": "a448cfa9",
   "metadata": {},
   "outputs": [
    {
     "name": "stdout",
     "output_type": "stream",
     "text": [
      "Hawaiian pizza is my favorite pizza.\n",
      "Pepperoni pizza is my favorite pizza.\n",
      "Canadian pizza is my favorite pizza.\n",
      "Vegetarian pizza is my favorite pizza.\n",
      "So give me all your pizza.\n"
     ]
    }
   ],
   "source": [
    "# For loops iterate over data, such as lists\n",
    "pizzas = ['hawaiian', 'pepperoni', 'canadian', 'vegetarian']\n",
    "for pizza in pizzas:\n",
    "    print(f\"{pizza.title()} pizza is my favorite pizza.\")\n",
    "\n",
    "print(\"So give me all your pizza.\")"
   ]
  },
  {
   "cell_type": "code",
   "execution_count": 3,
   "id": "208f3e42",
   "metadata": {},
   "outputs": [
    {
     "name": "stdout",
     "output_type": "stream",
     "text": [
      "Month: Jan, Revenue: 1000\n",
      "Month: Feb, Revenue: 1200\n",
      "Month: Mar, Revenue: 900\n"
     ]
    }
   ],
   "source": [
    "# For loops can also iterate over dictionaries\n",
    "sales = {\"Jan\": 1000, \"Feb\": 1200, \"Mar\": 900}\n",
    "for month, revenue in sales.items():\n",
    "    print(f\"Month: {month}, Revenue: {revenue}\")"
   ]
  },
  {
   "cell_type": "markdown",
   "id": "4b64ace6",
   "metadata": {},
   "source": [
    "## While Loops"
   ]
  },
  {
   "cell_type": "code",
   "execution_count": null,
   "id": "96efa479",
   "metadata": {},
   "outputs": [
    {
     "name": "stdout",
     "output_type": "stream",
     "text": [
      "Count is 0\n",
      "Count is 1\n",
      "Count is 2\n",
      "Count is 3\n",
      "Count is 4\n"
     ]
    }
   ],
   "source": [
    "# While loops execute the indented code as long as the condition is true\n",
    "count = 0\n",
    "while count < 5: # Check the condition\n",
    "    # If the condition is true, execute code block\n",
    "    # If the condition is false, exit the code block\n",
    "    print(f\"Count is {count}\")\n",
    "    count += 1"
   ]
  },
  {
   "cell_type": "code",
   "execution_count": 4,
   "id": "78232144",
   "metadata": {},
   "outputs": [
    {
     "name": "stdout",
     "output_type": "stream",
     "text": [
      "Cooling down... Current temp: 40\n",
      "Cooling down... Current temp: 38\n",
      "Cooling down... Current temp: 36\n",
      "Cooling down... Current temp: 34\n",
      "Cooling down... Current temp: 32\n"
     ]
    }
   ],
   "source": [
    "# Another while loop example\n",
    "temperature = 40\n",
    "while temperature > 30:\n",
    "    print(f\"Cooling down... Current temp: {temperature}\")\n",
    "    temperature -= 2"
   ]
  },
  {
   "cell_type": "code",
   "execution_count": null,
   "id": "25507dfb",
   "metadata": {},
   "outputs": [
    {
     "name": "stdout",
     "output_type": "stream",
     "text": [
      "Your movie ticket is $15!\n",
      "All done! Enjoy the show!\n"
     ]
    }
   ],
   "source": [
    "# While loops are often used with inputs \n",
    "#  to wait for user response\n",
    "prompt = \"\\nWelcome to Movie Central! Please give the age of the visitor.\"\n",
    "prompt += \"\\nWhen you have finished, please say 'quit.' \"\n",
    "\n",
    "while True:\n",
    "    age = input(prompt) # Example input: 20\n",
    "    price = ''\n",
    "\n",
    "    if age == 'quit':\n",
    "        print(\"All done! Enjoy the show!\")\n",
    "        break\n",
    "    else: \n",
    "        age = int(age)\n",
    "\n",
    "    if age < 3:\n",
    "        price = 'FREE'\n",
    "    elif age >=3 and age <=12:\n",
    "        price = '$10'\n",
    "    elif age > 12:\n",
    "        price = '$15'\n",
    "\n",
    "    print(f\"Your movie ticket is {price}!\")"
   ]
  },
  {
   "cell_type": "markdown",
   "id": "631a022c",
   "metadata": {},
   "source": [
    "## Nested Loops\n",
    "Nested loops are useful for working with multi-dimensional data, such as matrices."
   ]
  },
  {
   "cell_type": "code",
   "execution_count": 6,
   "id": "b235254e",
   "metadata": {},
   "outputs": [
    {
     "name": "stdout",
     "output_type": "stream",
     "text": [
      "1 2 3 \n",
      "4 5 6 \n",
      "7 8 9 \n"
     ]
    }
   ],
   "source": [
    "matrix = [[1, 2, 3], [4, 5, 6], [7, 8, 9]]\n",
    "\n",
    "for row in matrix: # Iterates over each group of three\n",
    "    for num in row: # Iterates over the individual elements in the group\n",
    "        print(num, end=\" \")\n",
    "    print()"
   ]
  },
  {
   "cell_type": "markdown",
   "id": "662a1f70",
   "metadata": {},
   "source": [
    "## Interactive Examples\n",
    "These examples determine if a formula is correct, given a user input. The user input is first validated to safeguard from unexpected responses."
   ]
  },
  {
   "cell_type": "code",
   "execution_count": 12,
   "id": "251eb5b7-361d-4703-8d6a-25465932971d",
   "metadata": {},
   "outputs": [
    {
     "name": "stdout",
     "output_type": "stream",
     "text": [
      "If n = 20, it cannot be expressed as 2^K=20\n"
     ]
    }
   ],
   "source": [
    "# Determine if a number can be expressed as 2^K where K is an integer\n",
    "\n",
    "n = input(\"Please enter a number: \") # Example input: 50\n",
    "\n",
    "# Validate user input\n",
    "try:\n",
    "    n = int(n)\n",
    "except:\n",
    "    n = -1\n",
    "    \n",
    "if n > 1:\n",
    "    i = 1\n",
    "    while i < 100:\n",
    "        expression = 2**i\n",
    "        if expression == n:\n",
    "            print(f\"If n = {n}, it can be expressed as 2^{i}={n}\")\n",
    "            break\n",
    "        if expression > n:\n",
    "            print(f\"If n = {n}, it cannot be expressed as 2^K={n}\")\n",
    "            break\n",
    "        i += 1\n",
    "else:\n",
    "    print(\"Input error\")\n"
   ]
  },
  {
   "cell_type": "code",
   "execution_count": 11,
   "id": "66816201-37a9-4f82-aef2-d522353d96a3",
   "metadata": {},
   "outputs": [
    {
     "name": "stdout",
     "output_type": "stream",
     "text": [
      "5! = (1)(2)(3)(4)(5) = 120\n"
     ]
    }
   ],
   "source": [
    "# Calculate the factorial of the number entered by the user\n",
    "\n",
    "# n! = 1(2)(3)...n Example: 4! = 1(2)(3)(4) = 24\n",
    "\n",
    "n = input(\"Please enter a number: \")\n",
    "\n",
    "# Validate integer input\n",
    "try:\n",
    "    n = int(n)\n",
    "except:\n",
    "    n = -1\n",
    "    \n",
    "if n > 1:\n",
    "    i = 1\n",
    "    product = 1\n",
    "    string_representation = \"\"\n",
    "    while i < n + 1:\n",
    "        product = product * i \n",
    "        string_representation = string_representation + \"(\" + str(i) + \")\"\n",
    "        i += 1\n",
    "        continue\n",
    "    print(f\"{n}! = {string_representation} = {product}\")\n",
    "else:\n",
    "    print(\"Input error\")\n"
   ]
  },
  {
   "cell_type": "markdown",
   "id": "18fa1d18",
   "metadata": {},
   "source": [
    "## Conclusion\n",
    "Loops are fundamental tools for handling large amounts of data efficiently. Mastering them enables a data scientist to automate processes, making data analysis more scalable and effective."
   ]
  }
 ],
 "metadata": {
  "kernelspec": {
   "display_name": "Python 3",
   "language": "python",
   "name": "python3"
  },
  "language_info": {
   "codemirror_mode": {
    "name": "ipython",
    "version": 3
   },
   "file_extension": ".py",
   "mimetype": "text/x-python",
   "name": "python",
   "nbconvert_exporter": "python",
   "pygments_lexer": "ipython3",
   "version": "3.12.1"
  }
 },
 "nbformat": 4,
 "nbformat_minor": 5
}
