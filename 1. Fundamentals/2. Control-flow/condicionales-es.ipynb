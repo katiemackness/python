{
 "cells": [
  {
   "cell_type": "markdown",
   "id": "849a1e29-7bbe-4a3e-8a65-704d6225613c",
   "metadata": {},
   "source": [
    "# Conditionales en Python\n",
    "Katlyn Mackness <br>\n",
    "02/05/24 - Updated 14/09/2025"
   ]
  },
  {
   "cell_type": "markdown",
   "id": "32999073",
   "metadata": {},
   "source": [
    "## Introduction\n",
    "En este recurso exploraremos la estructura y usos de las declaraciones condicionales que permiten que nuestros programas tomen decisiones basadas en condiciones específicas. Aprenderás a utilizar las sentencias if, elif y else, así como a combinar condicionales con operadores lógicos y anidar condiciones para construir flujos de control más complejos. Esta herramienta es fundamental para el desarrollo de programas interactivos y dinámicos."
   ]
  },
  {
   "cell_type": "markdown",
   "id": "220970cf",
   "metadata": {},
   "source": [
    "## Estructura Básica: if, elif y else\n",
    "Muestra la sintaxis y funcionamiento de las sentencias condicionales en Python con ejemplos sencillos."
   ]
  },
  {
   "cell_type": "code",
   "execution_count": null,
   "id": "2c0d390b",
   "metadata": {},
   "outputs": [
    {
     "name": "stdout",
     "output_type": "stream",
     "text": [
      "El número es positivo\n"
     ]
    }
   ],
   "source": [
    "# Ejemplo de estructura condicional sencilla\n",
    "numero = 15\n",
    "\n",
    "if numero > 0:  # Evalúa la condición. Si es verdadera, ejecuta el bloque indentado.\n",
    "    print(\"El número es positivo\")\n",
    "elif numero == 0: \n",
    "    print(\"El número es cero\")\n",
    "else:\n",
    "    print(\"El número es negativo\")"
   ]
  },
  {
   "cell_type": "markdown",
   "id": "44422e08",
   "metadata": {},
   "source": [
    "## Ejemplo Práctico: Cálculo de Pago de Empleados\n",
    "Aplica lo aprendido resolviendo un problema real donde el pago de un empleado depende de las horas trabajadas y diferentes tarifas."
   ]
  },
  {
   "cell_type": "code",
   "execution_count": 2,
   "id": "c7fe68ef-fef8-4977-93f3-112fa9ac4c85",
   "metadata": {},
   "outputs": [],
   "source": [
    "# Creación de una función para las calculaciones de salario\n",
    "def calcular_horas(horas, tarifa):\n",
    "    \"\"\"Calcular el salario final de un empleo según el nivel de horas cumplidos\"\"\"\n",
    "    if horas <= 40: \n",
    "        pago = horas * tarifa\n",
    "    elif horas > 40 and horas <= 50: \n",
    "            pago = (40 * tarifa) + ((horas - 40) * tarifa * 1.1)\n",
    "    elif horas > 50: \n",
    "        pago = (40 * tarifa) + (11 * tarifa) + ((horas - 50) * tarifa * 1.2)\n",
    "    return pago"
   ]
  },
  {
   "cell_type": "code",
   "execution_count": 5,
   "id": "646ae966-f16c-49b0-bc54-52db6e9d21f5",
   "metadata": {},
   "outputs": [
    {
     "name": "stdout",
     "output_type": "stream",
     "text": [
      "Empleado 2 trabajé 50 horas y ganó 408.0\n"
     ]
    }
   ],
   "source": [
    "# Recibe cuantas horas trabajó el empleado y imprime el pago total\n",
    "casos = {1:10, 2:8, 3:15} # \"caso\":\"tarifa\"\n",
    "\n",
    "caso_numero = input(\"¿Cual es su numero?\") # Ej. 2\n",
    "# Validar numero\n",
    "try: caso_numero = int(caso_numero)\n",
    "except: caso_numero = -1\n",
    "\n",
    "if caso_numero > 0:\n",
    "    horas_input = input(\"¿Cuantas horas trabajó?\") # Ej. 50\n",
    "    # Validar horas\n",
    "    try: horas_input = int(horas_input)\n",
    "    except: horas_input = -1\n",
    "\n",
    "    if horas_input > 0:\n",
    "        tarifa = casos[caso_numero]\n",
    "        print(f\"Empleado {caso_numero} trabajé {horas_input} horas y ganó {calcular_horas(horas_input, tarifa)}\")\n",
    "    else: print(\"Parametros incorrectos\")\n",
    "else: print(\"Parametros incorrectos\")"
   ]
  },
  {
   "cell_type": "code",
   "execution_count": null,
   "id": "52dda5f3",
   "metadata": {},
   "outputs": [],
   "source": []
  }
 ],
 "metadata": {
  "kernelspec": {
   "display_name": "Python 3",
   "language": "python",
   "name": "python3"
  },
  "language_info": {
   "codemirror_mode": {
    "name": "ipython",
    "version": 3
   },
   "file_extension": ".py",
   "mimetype": "text/x-python",
   "name": "python",
   "nbconvert_exporter": "python",
   "pygments_lexer": "ipython3",
   "version": "3.12.1"
  }
 },
 "nbformat": 4,
 "nbformat_minor": 5
}
