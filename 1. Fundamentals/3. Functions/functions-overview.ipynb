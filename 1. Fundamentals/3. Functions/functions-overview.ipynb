{
 "cells": [
  {
   "cell_type": "markdown",
   "id": "96b8ae4f",
   "metadata": {},
   "source": [
    "# Understanding Functions in Python\n",
    "Katlyn Goeujon-Mackness\n",
    "<br> 23/05/2025\n",
    "\n",
    "## Introduction\n",
    "Introduction Functions are a crucial part of Python programming, especially in data science. They allow us to write reusable, modular, and efficient code, making data manipulation and analysis more streamlined. In this notebook, we will explore the fundamentals of functions, their applications in data science, and best practices for writing clean and effective functions.\n",
    "\n",
    "### Contents\n",
    "\n",
    "1. [What are functions?](#what-are-functions)\n",
    "2. [Creating and Calling Functions](#creating-and-calling-functions)\n",
    "3. [Default Values](#default-values)\n",
    "4. [Function Arguments](#function-arguments)\n",
    "5. [Return Values](#return-values)\n",
    "6. [Lambda Functions](#lambda-functions)\n",
    "7. [Higher-Order Functions](#higher-order-functions-and-functional-programming)\n",
    "8. [Scope and Lifetime of Variables](#scope-and-lifetime-of-variables)\n",
    "9. [Best Practices](#best-practices)\n",
    "\n",
    "\n"
   ]
  },
  {
   "cell_type": "markdown",
   "id": "c5feea9d",
   "metadata": {},
   "source": [
    "## What are Functions?\n",
    "Functions are reusable blocks of code designed to perform specific tasks. Python provides built-in functions, but you can also define your own. They help in organizing and structuring code efficiently."
   ]
  },
  {
   "cell_type": "code",
   "execution_count": 2,
   "id": "2a884237",
   "metadata": {},
   "outputs": [
    {
     "name": "stdout",
     "output_type": "stream",
     "text": [
      "This notebook is all about writing and using functions!\n",
      "\n"
     ]
    }
   ],
   "source": [
    "# Example of a simple function\n",
    "def display_messasge():\n",
    "    \"\"\"This function displays a message.\"\"\"\n",
    "    message = \"This notebook is all about writing and using functions!\\n\"\n",
    "    print(message)\n",
    "\n",
    "display_messasge()"
   ]
  },
  {
   "cell_type": "markdown",
   "id": "46639422",
   "metadata": {},
   "source": [
    "#### Why are functions useful in data science?\n",
    "Functions are essential in data science by:\n",
    "- Improving code reusability, allowing repeating actions without redundant code.\n",
    "- Enhancing readability, making code modular and easier for humans to understand\n",
    "- Facilitating data processing steps, such as cleaning, transformation and analysis.\n",
    "- Reducing computational errors through consistent processes.\n",
    "\n",
    "#### Built-in vs. user-defined functions\n",
    "Python provides numerous built-in functions, and users can define their own for specific needs."
   ]
  },
  {
   "cell_type": "code",
   "execution_count": 3,
   "id": "2074af0b",
   "metadata": {},
   "outputs": [
    {
     "name": "stdout",
     "output_type": "stream",
     "text": [
      "Total: 15, Count: 5, Largest: 5\n"
     ]
    }
   ],
   "source": [
    "# Examples of built-in functions\n",
    "numbers = [1, 2, 3, 4, 5]\n",
    "\n",
    "total = sum(numbers)\n",
    "count = len(numbers)\n",
    "largest = max(numbers)\n",
    "\n",
    "# Make results human-readable\n",
    "print(f\"Total: {total}, Count: {count}, Largest: {largest}\")"
   ]
  },
  {
   "cell_type": "code",
   "execution_count": 4,
   "id": "e0a1aad1",
   "metadata": {},
   "outputs": [
    {
     "name": "stdout",
     "output_type": "stream",
     "text": [
      "Average: 30.0\n"
     ]
    }
   ],
   "source": [
    "# Example of a user-defined function\n",
    "def calculate_average(numbers):\n",
    "    \"\"\"Returns the average of a list of numbers.\"\"\"\n",
    "    return sum(numbers) / len(numbers)\n",
    "\n",
    "# Using the function\n",
    "avg = calculate_average([10, 20, 30, 40, 50])\n",
    "print(\"Average:\", avg)"
   ]
  },
  {
   "cell_type": "markdown",
   "id": "1038e03e",
   "metadata": {},
   "source": [
    "## Creating and Calling Functions\n",
    "### Function syntax\n",
    "Begin a function definition with `def`. Functions can take an input (parameter) and give an output (return value)."
   ]
  },
  {
   "cell_type": "code",
   "execution_count": 5,
   "id": "e33e5fff",
   "metadata": {},
   "outputs": [
    {
     "name": "stdout",
     "output_type": "stream",
     "text": [
      "Square: 25\n"
     ]
    }
   ],
   "source": [
    "# Function to calculate the square of a number\n",
    "def square(num):  # The parameter is `num`\n",
    "    return num ** 2  # The return value is `num ** 2`\n",
    "\n",
    "# Calling the function\n",
    "result = square(5)  # Enter a parameter value to get a return value\n",
    "print(\"Square:\", result)\n"
   ]
  },
  {
   "cell_type": "markdown",
   "id": "0eedb251",
   "metadata": {},
   "source": [
    "## Default Values\n",
    "A function can be given a default value as a parameter, making it optional in the function declaration."
   ]
  },
  {
   "cell_type": "code",
   "execution_count": 6,
   "id": "094fcc0c",
   "metadata": {},
   "outputs": [
    {
     "name": "stdout",
     "output_type": "stream",
     "text": [
      "Hello, Katlyn!\n",
      "Hello, Data Scientist!\n"
     ]
    }
   ],
   "source": [
    "def greet(name=\"Data Scientist\"):\n",
    "    \"\"\"Greets a user with a default or provided name.\"\"\"\n",
    "    print(f\"Hello, {name}!\")\n",
    "\n",
    "# Calling the function with and without an argument\n",
    "greet(\"Katlyn\")  # Output: Hello, Katlyn!\n",
    "greet()  # Output: Hello, Data Scientist!"
   ]
  },
  {
   "cell_type": "code",
   "execution_count": 7,
   "id": "12b5d612",
   "metadata": {},
   "outputs": [
    {
     "name": "stdout",
     "output_type": "stream",
     "text": [
      "Vancouver is in Canada.\n",
      "Paris is in France.\n",
      "Guanajuato is in Mexico.\n"
     ]
    }
   ],
   "source": [
    "def describe_city(city, country=\"Canada\"):  # Place parameters with default values after those without\n",
    "    print(f\"{city.title()} is in {country.title()}.\")\n",
    "\n",
    "describe_city(\"Vancouver\")\n",
    "describe_city(\"Paris\", \"France\")\n",
    "describe_city(\"Guanajuato\", \"Mexico\")"
   ]
  },
  {
   "cell_type": "markdown",
   "id": "78c7379e",
   "metadata": {},
   "source": [
    "## Function Arguments\n",
    "### Positional vs. Keyword Arguments\n",
    "By default, arguments are matched based on their position in the function call. They can also be named explicitly, making them independent of order and providing more clarity."
   ]
  },
  {
   "cell_type": "code",
   "execution_count": 8,
   "id": "b9cf7261",
   "metadata": {},
   "outputs": [
    {
     "name": "stdout",
     "output_type": "stream",
     "text": [
      "Name: Katlyn, Age: 32, City: Guanajuato\n",
      "Name: Chantelle, Age: 35, City: Vancouver\n"
     ]
    }
   ],
   "source": [
    "def introduce(name, age, city):\n",
    "    \"\"\"Displays personal information.\"\"\"\n",
    "    print(f\"Name: {name}, Age: {age}, City: {city}\")\n",
    "\n",
    "# Using positional arguments\n",
    "introduce(\"Katlyn\", 32, \"Guanajuato\")\n",
    "\n",
    "# Using keyword arguments to improve clarity\n",
    "introduce(age=35, city=\"Vancouver\", name=\"Chantelle\")"
   ]
  },
  {
   "cell_type": "markdown",
   "id": "68a41969",
   "metadata": {},
   "source": [
    "### Handling Variable-Length Arguments\n",
    "Python allows functions to accept an arbitrary number of arguments using `*args`, `**kwargs`. These are useful when the number of inputs is unknown or dynamic."
   ]
  },
  {
   "cell_type": "code",
   "execution_count": 9,
   "id": "e8562435",
   "metadata": {},
   "outputs": [
    {
     "name": "stdout",
     "output_type": "stream",
     "text": [
      "15\n",
      "100\n"
     ]
    }
   ],
   "source": [
    "# *args accepts any number of positional arguments as a tuple\n",
    "def sum_numbers(*args):\n",
    "    \"\"\"Returns the sum of all provided numbers.\"\"\"\n",
    "    return sum(args)\n",
    "\n",
    "# Calling with different numbers of arguments\n",
    "print(sum_numbers(3, 5, 7))  # Output: 15\n",
    "print(sum_numbers(10, 20, 30, 40))  # Output: 100"
   ]
  },
  {
   "cell_type": "code",
   "execution_count": 10,
   "id": "47917293",
   "metadata": {},
   "outputs": [
    {
     "name": "stdout",
     "output_type": "stream",
     "text": [
      "name: Katlyn\n",
      "age: 32\n",
      "city: Guanajuato\n"
     ]
    }
   ],
   "source": [
    "# **kwargs accepts a variable number of named arguments as a dictionary\n",
    "def display_user_info(**kwargs):\n",
    "    \"\"\"Displays user details provided as keyword arguments.\"\"\"\n",
    "    for key, value in kwargs.items():\n",
    "        print(f\"{key}: {value}\")\n",
    "\n",
    "# Function call\n",
    "display_user_info(name=\"Katlyn\", age=32, city=\"Guanajuato\")\n"
   ]
  },
  {
   "cell_type": "code",
   "execution_count": 11,
   "id": "8c5d717e",
   "metadata": {},
   "outputs": [
    {
     "name": "stdout",
     "output_type": "stream",
     "text": [
      "Positional arguments: ('Developer', 'Python Enthusiast')\n",
      "Keyword arguments: {'name': 'Katlyn', 'location': 'Mexico'}\n"
     ]
    }
   ],
   "source": [
    "# Combining both *args and **kwargs in a function \n",
    "def full_description(*args, **kwargs):\n",
    "    \"\"\"Displays positional and keyword arguments.\"\"\"\n",
    "    print(\"Positional arguments:\", args)\n",
    "    print(\"Keyword arguments:\", kwargs)\n",
    "\n",
    "# Function call\n",
    "full_description(\"Developer\", \"Python Enthusiast\", name=\"Katlyn\", location=\"Mexico\")\n"
   ]
  },
  {
   "cell_type": "markdown",
   "id": "a04b4080",
   "metadata": {},
   "source": [
    "## Return Values\n",
    "It is often useful for a function to process some data and then return a value, rather than displaying its output directly. The `return` statement takes a value from inside the function and sends it back to the function call."
   ]
  },
  {
   "cell_type": "code",
   "execution_count": 12,
   "id": "dd2d44fe",
   "metadata": {},
   "outputs": [
    {
     "name": "stdout",
     "output_type": "stream",
     "text": [
      "\"Vancouver, Canada\"\n"
     ]
    }
   ],
   "source": [
    "# This function takes some data, processes it, and returns the data formatted\n",
    "def formatted_city_country(city, country):\n",
    "    \"\"\"Return the name of a city with its country, neatly formatted\"\"\"\n",
    "    city_country = f\"\\\"{city}, {country}\\\"\"\n",
    "    return city_country.title()\n",
    "\n",
    "my_city = formatted_city_country('vancouver', 'canada')\n",
    "print(my_city)"
   ]
  },
  {
   "cell_type": "markdown",
   "id": "3ab38fbf",
   "metadata": {},
   "source": [
    "## Lambda Functions\n",
    "Lambda functions (also known as anonymous functions) are single-use functions defined using the `lambda` keyword. Unlike regular functions created using a `def`, lambda functions do not require a name and are often used for simple, one-time operations.\n",
    "\n",
    "### Syntax\n",
    "`lambda arguments: expression`\n",
    "\n",
    "### When to use lambda functions\n",
    "Lambda functions are useful when you need a short, throwaway function without defining a full def function. They are typically used:\n",
    "- In situations where a function is required for a short period (e.g., inside higher-order functions like map, filter, and sorted).\n",
    "- For improving code readability when the function logic is simple.\n",
    "- When you need a function but don't want to give it a formal name (hence \"anonymous\").\n",
    "\n"
   ]
  },
  {
   "cell_type": "code",
   "execution_count": 13,
   "id": "6d6ca750",
   "metadata": {},
   "outputs": [
    {
     "name": "stdout",
     "output_type": "stream",
     "text": [
      "25\n",
      "25\n"
     ]
    }
   ],
   "source": [
    "# Regular function\n",
    "def square(x):\n",
    "    return x ** 2\n",
    "\n",
    "# Equivalent lambda function\n",
    "square_lambda = lambda x: x ** 2\n",
    "\n",
    "print(square(5))\n",
    "print(square_lambda(5)) "
   ]
  },
  {
   "cell_type": "markdown",
   "id": "46156f73",
   "metadata": {},
   "source": [
    "## Higher-Order Functions and Functional Programming\n",
    "Higher-order functions are functions that take other functions as arguments or return functions as their result. \n",
    "\n",
    "### Using functions as arguments \n",
    "Built-in functions like `(map()`, `filter()` and `reduce()` work seamlessly with lambda functions and regular functions alike."
   ]
  },
  {
   "cell_type": "code",
   "execution_count": 14,
   "id": "5e57804b",
   "metadata": {},
   "outputs": [
    {
     "name": "stdout",
     "output_type": "stream",
     "text": [
      "[1, 4, 9, 16, 25]\n"
     ]
    }
   ],
   "source": [
    "# Use map() to apply the function to every element in a list\n",
    "numbers = [1, 2, 3, 4, 5]\n",
    "squared = list(map(lambda x: x**2, numbers))\n",
    "print(squared) "
   ]
  },
  {
   "cell_type": "code",
   "execution_count": 15,
   "id": "cf1dae4d",
   "metadata": {},
   "outputs": [
    {
     "name": "stdout",
     "output_type": "stream",
     "text": [
      "[2, 4]\n"
     ]
    }
   ],
   "source": [
    "# Use filter() to filter out elements in a list based on a condition\n",
    "numbers = [1, 2, 3, 4, 5]\n",
    "even_numbers = list(filter(lambda x: x % 2 == 0, numbers))\n",
    "print(even_numbers)"
   ]
  },
  {
   "cell_type": "code",
   "execution_count": 16,
   "id": "81a17634",
   "metadata": {},
   "outputs": [
    {
     "name": "stdout",
     "output_type": "stream",
     "text": [
      "15\n"
     ]
    }
   ],
   "source": [
    "# Use reduce to apply a function cumulatively to reduce an iterable into a single value\n",
    "from functools import reduce\n",
    "\n",
    "numbers = [1, 2, 3, 4, 5]\n",
    "numbers_sum = reduce(lambda x, y: x + y, numbers)\n",
    "print(numbers_sum) "
   ]
  },
  {
   "cell_type": "markdown",
   "id": "b5dc61de",
   "metadata": {},
   "source": [
    "### Writing functions that return functions\n",
    "Another useful feature of higher-order programming is returning other functions from a function. One example of this use is customized function factories."
   ]
  },
  {
   "cell_type": "code",
   "execution_count": 17,
   "id": "d8fb5000",
   "metadata": {},
   "outputs": [
    {
     "name": "stdout",
     "output_type": "stream",
     "text": [
      "10\n",
      "15\n"
     ]
    }
   ],
   "source": [
    "# Example of a function factory that creates custom multiplier functions \n",
    "def multiply_by(factor):\n",
    "    def multiplier(number):\n",
    "        return number * factor\n",
    "    return multiplier\n",
    "\n",
    "# Creating specific multiplier functions\n",
    "double = multiply_by(2)\n",
    "triple = multiply_by(3)\n",
    "\n",
    "print(double(5)) \n",
    "print(triple(5)) "
   ]
  },
  {
   "cell_type": "markdown",
   "id": "8b8c9d23",
   "metadata": {},
   "source": [
    "## Scope and Lifetime of Variables\n",
    "Scope refers to where a variable can be accessed. Lifetime refers to how long a variable exists before it is destroyed. \n",
    "- **Local scope:** Variables declared inside a function are onlyu accessibly within that function. Their lifetime is the duration of the *function* execution.\n",
    "- **Global scope:** Variables declared outside any function can be accessed globally. Their lifeteime is the duration of *the program's* execution."
   ]
  },
  {
   "cell_type": "code",
   "execution_count": 18,
   "id": "2e026850",
   "metadata": {},
   "outputs": [
    {
     "name": "stdout",
     "output_type": "stream",
     "text": [
      "Inside function: 5\n",
      "Outside function: 10\n"
     ]
    }
   ],
   "source": [
    "x = 10  # Global variable\n",
    "\n",
    "def modify_variable():\n",
    "    x = 5  # Local variable does not affect global x\n",
    "    print(\"Inside function:\", x)\n",
    "\n",
    "modify_variable()\n",
    "print(\"Outside function:\", x)"
   ]
  },
  {
   "cell_type": "markdown",
   "id": "743370c4",
   "metadata": {},
   "source": [
    "## Best Practices\n",
    "Writing clean, well-structured and efficient code is essential for maintainability and performance optimization in Python."
   ]
  },
  {
   "cell_type": "markdown",
   "id": "78e8beae",
   "metadata": {},
   "source": [
    "### Writing clean, well-documented functions\n",
    "Function should be easy to read, follow clear naming conventions and include descriptions of purpose, parameters, and values."
   ]
  },
  {
   "cell_type": "code",
   "execution_count": 19,
   "id": "2d6ad953",
   "metadata": {},
   "outputs": [
    {
     "name": "stdout",
     "output_type": "stream",
     "text": [
      "50.0\n"
     ]
    }
   ],
   "source": [
    "# Example of a well-structured, informative function.\n",
    "def calculate_area(width: float, height: float) -> float:\n",
    "    \"\"\"\n",
    "    Calculate the area of a rectangle.\n",
    "\n",
    "    Parameters:\n",
    "    width (float): The width of the rectangle.\n",
    "    height (float): The height of the rectangle.\n",
    "\n",
    "    Returns:\n",
    "    float: The calculated area.\n",
    "    \"\"\"\n",
    "    return width * height\n",
    "\n",
    "# Using the function\n",
    "print(calculate_area(5.0, 10.0))\n"
   ]
  },
  {
   "cell_type": "markdown",
   "id": "2b2a79fe",
   "metadata": {},
   "source": [
    "## Conclusion\n",
    "Functions are an essential part of writing efficient and maintainable Python code. This document demonstrates my ability to design, implement, and refine functions in Python, showcasing both theoretical understanding and practical application. With these principles in mind, I continue to explore, optimize, and expand my knowledge of functions to write cleaner and more efficient code.\n",
    "\n",
    "### References\n",
    "This notebook was created using concepts and examples inspired by *Python Crash Course* by Eric Matthes. \n",
    "\n",
    "For more information, you can find *Python Crash Course* here: [https://nostarch.com/pythoncrashcourse](https://nostarch.com/pythoncrashcourse)."
   ]
  },
  {
   "cell_type": "markdown",
   "id": "8408c6f5",
   "metadata": {},
   "source": []
  }
 ],
 "metadata": {
  "kernelspec": {
   "display_name": "Python 3",
   "language": "python",
   "name": "python3"
  },
  "language_info": {
   "codemirror_mode": {
    "name": "ipython",
    "version": 3
   },
   "file_extension": ".py",
   "mimetype": "text/x-python",
   "name": "python",
   "nbconvert_exporter": "python",
   "pygments_lexer": "ipython3",
   "version": "3.12.1"
  }
 },
 "nbformat": 4,
 "nbformat_minor": 5
}
