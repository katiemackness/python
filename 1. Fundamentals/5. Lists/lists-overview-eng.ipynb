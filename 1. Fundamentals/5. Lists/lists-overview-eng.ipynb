{
 "cells": [
  {
   "cell_type": "markdown",
   "id": "0f6584f4",
   "metadata": {},
   "source": [
    "# List Manipulation in Python\n",
    "Katlyn Goeujon-Mackness\n",
    "17/05/2025\n",
    "\n",
    "## Introduction\n",
    "Lists are one of the most powerful and flexible data structures in Python. They allow you to store, modify, and manipulate collections of data efficiently. This notebook serves as a demonstration of various list manipulation techniques, showcasing my ability to handle, modify, and optimize lists in Python with clean, efficient code.\n",
    "\n",
    "### Contents\n",
    "1. [Creating Lists](#1-creating-lists)\n",
    "2. [Accessing List Elements](#2-accessing-list-elements)\n",
    "3. [Modifying Lists](#3-modifying-lists)\n",
    "4. [Looping through Lists](#4-looping-through-lists)\n",
    "5. [List Methods and Functions](#6-nested-lists)\n",
    "6. [Nested Lists](#6-nested-lists)\n",
    "7. [Filtering and Mapping Lists](#7-filtering-and-mapping-lists)\n",
    "8. [Advanced List Manipulation](#8-advanced-list-manipulations)\n",
    "9. [Interactive Examples](#9-interactive-examples)"
   ]
  },
  {
   "cell_type": "markdown",
   "id": "5ef8342f",
   "metadata": {},
   "source": [
    "## 1. Creating Lists\n",
    "Lists are a flexible data structure in Python. You can use different data types as list elements."
   ]
  },
  {
   "cell_type": "code",
   "execution_count": 68,
   "id": "83146236",
   "metadata": {},
   "outputs": [
    {
     "name": "stdout",
     "output_type": "stream",
     "text": [
      "[1, 2, 3, 4, 5]\n",
      "['apple', 'banana', 'cherry']\n",
      "[3.14, 'hello', True]\n"
     ]
    }
   ],
   "source": [
    "# Creating lists with different data types\n",
    "numbers = [1, 2, 3, 4, 5]\n",
    "fruits = ['apple', 'banana', 'cherry']\n",
    "mixed = [3.14, 'hello', True]\n",
    "\n",
    "print(numbers)\n",
    "print(fruits)\n",
    "print(mixed)"
   ]
  },
  {
   "cell_type": "markdown",
   "id": "a8b4c348",
   "metadata": {},
   "source": [
    "## 2. Accessing List Elements\n",
    "Retrieve specific list elements by indexing, stating a specific index of an element, or slicing, accessing a range of elements."
   ]
  },
  {
   "cell_type": "code",
   "execution_count": 69,
   "id": "1bdc7db9",
   "metadata": {},
   "outputs": [
    {
     "name": "stdout",
     "output_type": "stream",
     "text": [
      "apple\n",
      "cherry\n",
      "['banana', 'cherry']\n"
     ]
    }
   ],
   "source": [
    "# Accessing elements\n",
    "fruits = ['apple', 'banana', 'cherry']\n",
    "print(fruits[0])  # index first element\n",
    "print(fruits[-1])  # index last element\n",
    "print(fruits[1:])  # slice from index 1 to end"
   ]
  },
  {
   "cell_type": "markdown",
   "id": "3bbae6d4",
   "metadata": {},
   "source": [
    "## 3. Modifying Lists\n",
    "Lists are mutable. Items can be updated, added and removed."
   ]
  },
  {
   "cell_type": "code",
   "execution_count": 70,
   "id": "760d7242",
   "metadata": {},
   "outputs": [
    {
     "name": "stdout",
     "output_type": "stream",
     "text": [
      "['blueberry', 'cherry']\n",
      "Popped fruit: grape\n"
     ]
    }
   ],
   "source": [
    "# Modifying elements\n",
    "fruits = ['apple', 'banana', 'cherry']\n",
    "fruits[1] = 'blueberry'  # Replace element\n",
    "\n",
    "# Adding elements\n",
    "fruits.append('grape')  # Add at the end\n",
    "fruits.insert(1, 'kiwi')  # Insert at index 1\n",
    "\n",
    "# Removing elements\n",
    "fruits.remove('apple')  # Remove specific item\n",
    "popped_fruit = fruits.pop()  # Remove last item\n",
    "del fruits[0]  # Delete by index\n",
    "\n",
    "print(fruits)\n",
    "print(f\"Popped fruit: {popped_fruit}\")"
   ]
  },
  {
   "cell_type": "markdown",
   "id": "5095f472",
   "metadata": {},
   "source": [
    "## 4. Looping Through Lists\n",
    "Use `for` loops and **list comprehensions** to loop through lists. The `for` loop allows you to iterate through each item in a list. List comprehensions allow you to generate a new list by applying an expression to each item. Comprehensions are often more readable and compact."
   ]
  },
  {
   "cell_type": "code",
   "execution_count": 71,
   "id": "18d500a4",
   "metadata": {},
   "outputs": [
    {
     "name": "stdout",
     "output_type": "stream",
     "text": [
      "I like apple\n",
      "I like banana\n",
      "I like cherry\n",
      "['APPLE', 'BANANA', 'CHERRY']\n"
     ]
    }
   ],
   "source": [
    "# Using for loop\n",
    "fruits = ['apple', 'banana', 'cherry']\n",
    "for fruit in fruits:\n",
    "    print(f\"I like {fruit}\") # Prints a message for each element\n",
    "\n",
    "# Using list comprehension\n",
    "# Creates a new list, applying an expression to each element\n",
    "uppercase_fruits = [fruit.upper() for fruit in fruits]\n",
    "print(uppercase_fruits)"
   ]
  },
  {
   "cell_type": "markdown",
   "id": "cde448bd",
   "metadata": {},
   "source": [
    "## 5. List Methods and Functions\n",
    "Examples of common list methods and built-in list functions."
   ]
  },
  {
   "cell_type": "code",
   "execution_count": 72,
   "id": "7cd48915",
   "metadata": {},
   "outputs": [
    {
     "name": "stdout",
     "output_type": "stream",
     "text": [
      "5\n",
      "['red', 'yellow', 'silver', 'mahogany', 'vermillion', 'canary yellow', 'white', 'gray', 'black']\n",
      "[1, 3, 5, 8]\n",
      "1\n",
      "8\n",
      "[1, 8, 3, 5]\n"
     ]
    }
   ],
   "source": [
    "# Common list functions and methods\n",
    "colors = ['blue','red','yellow','orange','mahogany','vermillion','canary yellow']\n",
    "\n",
    "print(len(numbers))  # Count the number of elements\n",
    "del colors[0] # Delete an element at the index\n",
    "colors.remove('orange') # Delete an element by identification\n",
    "colors.append('white') # Add a new element to the end\n",
    "colors.extend(['gray', 'black'])  # Add multiple elements to the end\n",
    "colors.insert(2,'silver') # Add a new element at the index\n",
    "\n",
    "print(colors)\n",
    "\n",
    "# List functions and methods with numbers\n",
    "numbers = [5, 3, 8, 1]\n",
    "print(sorted(numbers))  # Sorted list\n",
    "print(min(numbers))  # Minimum\n",
    "print(max(numbers))  # Maximum\n",
    "numbers.reverse()  # Reverse order\n",
    "\n",
    "print(numbers)\n"
   ]
  },
  {
   "cell_type": "markdown",
   "id": "2c2c9051",
   "metadata": {},
   "source": [
    "## 6. Nested Lists\n",
    "Python allows you to handle more complex data structures, such as matrices, with lists within lists."
   ]
  },
  {
   "cell_type": "code",
   "execution_count": 73,
   "id": "5a84e004",
   "metadata": {},
   "outputs": [
    {
     "name": "stdout",
     "output_type": "stream",
     "text": [
      "6\n"
     ]
    }
   ],
   "source": [
    "# Nested lists\n",
    "matrix = [\n",
    "    [1, 2, 3],\n",
    "    [4, 5, 6],\n",
    "    [7, 8, 9]\n",
    "]\n",
    "\n",
    "# Access row 1, column 2\n",
    "print(matrix[1][2])  "
   ]
  },
  {
   "cell_type": "markdown",
   "id": "14903d55",
   "metadata": {},
   "source": [
    "## 7. Filtering and Mapping Lists\n",
    "Using `filter()`, **list comprehensions** and `map()` to modify list content dynamically."
   ]
  },
  {
   "cell_type": "code",
   "execution_count": 74,
   "id": "cafe2091",
   "metadata": {},
   "outputs": [
    {
     "name": "stdout",
     "output_type": "stream",
     "text": [
      "Even numbers: [2, 4, 6, 8, 10]\n"
     ]
    }
   ],
   "source": [
    "# filter() excludes elements that do not meet the condition\n",
    "numbers = [1, 2, 3, 4, 5, 6, 7, 8, 9, 10]\n",
    "\n",
    "# Filter out odd numbers to keep only the even numbers\n",
    "even_numbers = list(filter(lambda x: x % 2 == 0, numbers))\n",
    "print(\"Even numbers:\", even_numbers)"
   ]
  },
  {
   "cell_type": "code",
   "execution_count": 75,
   "id": "380f3847",
   "metadata": {},
   "outputs": [
    {
     "name": "stdout",
     "output_type": "stream",
     "text": [
      "Even numbers: [2, 4, 6, 8, 10]\n"
     ]
    }
   ],
   "source": [
    "# The same thing can be achieved with list comprehensions\n",
    "even_numbers_2 = [num for num in numbers if num % 2 == 0]\n",
    "print(\"Even numbers:\", even_numbers_2)"
   ]
  },
  {
   "cell_type": "code",
   "execution_count": 76,
   "id": "905aca41",
   "metadata": {},
   "outputs": [
    {
     "name": "stdout",
     "output_type": "stream",
     "text": [
      "Squared numbers: [1, 4, 9, 16, 25, 36, 49, 64, 81, 100]\n"
     ]
    }
   ],
   "source": [
    "# map() applies a transformation to every element in the list\n",
    "squared_numbers = list(map(lambda x: x ** 2, numbers))\n",
    "print(\"Squared numbers:\", squared_numbers)"
   ]
  },
  {
   "cell_type": "markdown",
   "id": "ca1aaef5",
   "metadata": {},
   "source": [
    "## 8. Advanced List Manipulations\n",
    "Python allows you to unpack and merge lists, as well as combine multiple lists.\n",
    "### Unpacking Lists"
   ]
  },
  {
   "cell_type": "code",
   "execution_count": 77,
   "id": "31dd7b57",
   "metadata": {},
   "outputs": [
    {
     "name": "stdout",
     "output_type": "stream",
     "text": [
      "Name: Katlyn, Age: 32, Profession: Data Scientist\n"
     ]
    }
   ],
   "source": [
    "# Unpacking a list into individual variables\n",
    "user = [\"Katlyn\", 32, \"Data Scientist\"]\n",
    "name, age, profession = user\n",
    "\n",
    "print(f\"Name: {name}, Age: {age}, Profession: {profession}\")"
   ]
  },
  {
   "cell_type": "markdown",
   "id": "ff449eb7",
   "metadata": {},
   "source": [
    "### Merging Lists"
   ]
  },
  {
   "cell_type": "code",
   "execution_count": 78,
   "id": "63a7d44a",
   "metadata": {},
   "outputs": [
    {
     "name": "stdout",
     "output_type": "stream",
     "text": [
      "[1, 2, 3, 4, 5, 6]\n"
     ]
    }
   ],
   "source": [
    "# Merging lists using `+` operator\n",
    "list1 = [1, 2, 3]\n",
    "list2 = [4, 5, 6]\n",
    "\n",
    "new_list = list1 + list2\n",
    "print(new_list) "
   ]
  },
  {
   "cell_type": "code",
   "execution_count": 79,
   "id": "d2579a3c",
   "metadata": {},
   "outputs": [
    {
     "name": "stdout",
     "output_type": "stream",
     "text": [
      "[1, 2, 3, 4, 5, 6]\n"
     ]
    }
   ],
   "source": [
    "# Merging lists using extend()\n",
    "list1 = [1, 2, 3]\n",
    "list2 = [4, 5, 6]\n",
    "\n",
    "list1.extend(list2)\n",
    "print(list1)  "
   ]
  },
  {
   "cell_type": "markdown",
   "id": "5e0f0659",
   "metadata": {},
   "source": [
    "### Combining Multiple Lists"
   ]
  },
  {
   "cell_type": "code",
   "execution_count": 80,
   "id": "24c58a75",
   "metadata": {},
   "outputs": [
    {
     "name": "stdout",
     "output_type": "stream",
     "text": [
      "[('A', 1), ('B', 2), ('C', 3)]\n"
     ]
    }
   ],
   "source": [
    "# Use zip() for alternative merge\n",
    "list1 = [\"A\", \"B\", \"C\"]\n",
    "list2 = [1, 2, 3]\n",
    "\n",
    "new_list = list(zip(list1, list2))\n",
    "print(new_list) "
   ]
  },
  {
   "cell_type": "code",
   "execution_count": null,
   "id": "b9768916",
   "metadata": {},
   "outputs": [
    {
     "name": "stdout",
     "output_type": "stream",
     "text": [
      "[1, 2, 3, 4, 5, 6]\n"
     ]
    }
   ],
   "source": [
    "# Flattening nested lists\n",
    "nested_list = [[1, 2], [3, 4], [5, 6]]\n",
    "\n",
    "new_list = [item for sublist in nested_list for item in sublist]\n",
    "print(new_list) "
   ]
  },
  {
   "cell_type": "markdown",
   "id": "bdc550a0",
   "metadata": {},
   "source": [
    "## 9. Interactive Examples"
   ]
  },
  {
   "cell_type": "code",
   "execution_count": 87,
   "id": "e0abc3d0",
   "metadata": {},
   "outputs": [
    {
     "name": "stdout",
     "output_type": "stream",
     "text": [
      "\n",
      "Dear Arnold ,\n",
      "Would you like to come to dinner? Jan and Michael are going to be there!!\n",
      "Love,\n",
      "Katie\n",
      "\n",
      "Dear Marnold ,\n",
      "Would you like to come to dinner? Jan and Michael are going to be there!!\n",
      "Love,\n",
      "Katie\n",
      "\n",
      "Dear Parnold ,\n",
      "Would you like to come to dinner? Jan and Michael are going to be there!!\n",
      "Love,\n",
      "Katie\n"
     ]
    }
   ],
   "source": [
    "# ---------------------------------------------------------\n",
    "# Guest List\n",
    "# Create a party guest list and send a message to each guest \n",
    "#   to invite them to the party.\n",
    "# ---------------------------------------------------------\n",
    "\n",
    "# Create guest list and a message\n",
    "guests = ['Arnold','Marnold','Parnold']\n",
    "message_1 = \"\\nDear\"\n",
    "message_2 = \",\\nWould you like to come to dinner? Jan and Michael are going to be there!!\\nLove,\\nKatie\"\n",
    "\n",
    "# Print an invitation for each guest\n",
    "for guest in guests:\n",
    "    print(message_1, guest, message_2)"
   ]
  },
  {
   "cell_type": "code",
   "execution_count": 88,
   "id": "8ba333bd",
   "metadata": {},
   "outputs": [
    {
     "name": "stdout",
     "output_type": "stream",
     "text": [
      "\n",
      "Dear Jonathan ,\n",
      "Would you like to come to dinner? Jan and Michael are going to be there!!\n",
      "Love,\n",
      "Katie\n",
      "P.S. We have found a bigger table! We're adding more guests to the list :)\n",
      "\n",
      "Dear Arnold ,\n",
      "Would you like to come to dinner? Jan and Michael are going to be there!!\n",
      "Love,\n",
      "Katie\n",
      "P.S. We have found a bigger table! We're adding more guests to the list :)\n",
      "\n",
      "Dear Parnold ,\n",
      "Would you like to come to dinner? Jan and Michael are going to be there!!\n",
      "Love,\n",
      "Katie\n",
      "P.S. We have found a bigger table! We're adding more guests to the list :)\n",
      "\n",
      "Dear Jenny ,\n",
      "Would you like to come to dinner? Jan and Michael are going to be there!!\n",
      "Love,\n",
      "Katie\n",
      "P.S. We have found a bigger table! We're adding more guests to the list :)\n",
      "\n",
      "Dear Monathan ,\n",
      "Would you like to come to dinner? Jan and Michael are going to be there!!\n",
      "Love,\n",
      "Katie\n",
      "P.S. We have found a bigger table! We're adding more guests to the list :)\n"
     ]
    }
   ],
   "source": [
    "\n",
    "# Remove one guest and add a different one.\n",
    "guests.remove('Marnold')\n",
    "guests.append('Jenny')\n",
    "\n",
    "\n",
    "# Add more guests to the list\n",
    "#  and send a revised message to each guest\n",
    "guests.insert(0,'Jonathan')\n",
    "guests.append('Monathan')\n",
    "\n",
    "message_2 = f\"{message_2}\\nP.S. We have found a bigger table! We're adding more guests to the list :)\"\n",
    "\n",
    "for guest in guests:\n",
    "    print(message_1,guest,message_2)\n"
   ]
  },
  {
   "cell_type": "code",
   "execution_count": 84,
   "id": "bb44d4f2",
   "metadata": {},
   "outputs": [
    {
     "name": "stdout",
     "output_type": "stream",
     "text": [
      "Sorry, Monathan, you can't come to dinner anymore. :(\n",
      "Sorry, Jenny, you can't come to dinner anymore. :(\n",
      "Sorry, Larnold, you can't come to dinner anymore. :(\n",
      "Sorry, Ponathan, you can't come to dinner anymore. :(\n",
      "Sorry, Parnold, you can't come to dinner anymore. :(\n"
     ]
    }
   ],
   "source": [
    "# Not enough room. Uninvite the last 5 guests.\n",
    "popped = [guests.pop() for _ in range(5)]\n",
    "\n",
    "for guest in popped:\n",
    "    print(f\"Sorry, {guest}, you can't come to dinner anymore. :(\")"
   ]
  },
  {
   "cell_type": "code",
   "execution_count": 85,
   "id": "23acb1d7",
   "metadata": {},
   "outputs": [
    {
     "name": "stdout",
     "output_type": "stream",
     "text": [
      "Dear Jonathan, everyone else is uninvited, but you are still invited! Woohoo!\n",
      "Dear Arnold, everyone else is uninvited, but you are still invited! Woohoo!\n"
     ]
    }
   ],
   "source": [
    "\n",
    "# Tell the remaining guests they are still invited.\n",
    "for guest in guests:\n",
    "    print(f\"Dear {guest}, everyone else is uninvited, but you are still invited! Woohoo!\")"
   ]
  },
  {
   "cell_type": "code",
   "execution_count": 86,
   "id": "340fc831",
   "metadata": {},
   "outputs": [
    {
     "name": "stdout",
     "output_type": "stream",
     "text": [
      "[]\n"
     ]
    }
   ],
   "source": [
    "# Party is cancelled. Remove the remaining guests from the list.\n",
    "guests.clear()\n",
    "print(guests)"
   ]
  },
  {
   "cell_type": "markdown",
   "id": "2ad5c976",
   "metadata": {},
   "source": [
    "## Conclusion\n",
    "Mastering list manipulation enhances the ability to handle structured data efficiently, making more efficient Python programming. This notebook has shown examples of my ability to work proficiently with lists and optimize code performance.\n",
    "\n",
    "### References\n",
    "This notebook was created using concepts and examples inspired by *Python Crash Course* by Eric Matthes. \n",
    "\n",
    "For more information, you can find *Python Crash Course* here: [https://nostarch.com/pythoncrashcourse](https://nostarch.com/pythoncrashcourse).\n"
   ]
  },
  {
   "cell_type": "markdown",
   "id": "d4c17389",
   "metadata": {},
   "source": []
  }
 ],
 "metadata": {
  "kernelspec": {
   "display_name": "Python 3",
   "language": "python",
   "name": "python3"
  },
  "language_info": {
   "codemirror_mode": {
    "name": "ipython",
    "version": 3
   },
   "file_extension": ".py",
   "mimetype": "text/x-python",
   "name": "python",
   "nbconvert_exporter": "python",
   "pygments_lexer": "ipython3",
   "version": "3.12.1"
  }
 },
 "nbformat": 4,
 "nbformat_minor": 5
}
