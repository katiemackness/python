{
 "cells": [
  {
   "cell_type": "markdown",
   "id": "696d10b2",
   "metadata": {},
   "source": [
    "# Understanding Data Types and Variables in Python\n",
    "Katlyn Goeujon-Mackness <br>\n",
    "09/05/2025"
   ]
  },
  {
   "cell_type": "markdown",
   "id": "54fdcfcd",
   "metadata": {},
   "source": [
    "## Introduction\n",
    "Understanding variables and data types is an important first step into the world of coding with Python. Variables allow us to store and manipulate data, while data types define the kind of values we work with. \n",
    "\n",
    "Through these examples, this notebook demonstrates an understanding of variables and data types, providing a solid basis for more advanced Python topics.\n",
    "\n",
    "### Contents\n",
    "1. [Variables in Python](#variables-in-python)\n",
    "2. [Data Types in Python](#data-types-in-python)\n",
    "   - [Numeric Data Types](#numeric-data-types)\n",
    "   - [String Data Type](#string-data-type)\n",
    "   - [Boolean Data Type](#boolean-data-type)\n",
    "   - [List, Tuple and Set](#list-tuple-and-set)\n",
    "   - [Dynamic typing](#dynamic-typing)\n",
    "   - [Type Conversion](#type-conversion)\n",
    "3. [Examples](#examples)\n",
    "   - [Creating and Using Variables with Different Data Types](#creating-and-using-variables-with-different-data-types)\n",
    "   - [Boolean Logic with Type Conversions](#boolean-logic-with-type-conversions)\n",
    "   - [Practical Example: E-Commerce Platform](#practical-example-e-commerce-platform)\n",
    "\n",
    "\n"
   ]
  },
  {
   "cell_type": "markdown",
   "id": "acc1a495",
   "metadata": {},
   "source": [
    "## Variables in Python\n",
    "### Assigning values to variables\n",
    "Python allows assigning different types of values to variables without explicitly declaring their types."
   ]
  },
  {
   "cell_type": "code",
   "execution_count": 1,
   "id": "be5d1def",
   "metadata": {},
   "outputs": [],
   "source": [
    "# Variables are labels that you can assign to different kinds of values\n",
    "name = \"Katlyn\"\n",
    "age = 32\n",
    "height = 1.62\n",
    "is_student = True"
   ]
  },
  {
   "cell_type": "code",
   "execution_count": 2,
   "id": "01e9af52",
   "metadata": {},
   "outputs": [
    {
     "name": "stdout",
     "output_type": "stream",
     "text": [
      "Name: Katlyn\n",
      "Age: 32\n",
      "Height: 1.62\n",
      "Is a student: True\n"
     ]
    }
   ],
   "source": [
    "# You can use variables in functions like print()\n",
    "print(\"Name:\", name)\n",
    "print(\"Age:\", age)\n",
    "print(\"Height:\", height)\n",
    "print(\"Is a student:\", is_student)"
   ]
  },
  {
   "cell_type": "markdown",
   "id": "9850497c",
   "metadata": {},
   "source": [
    "## Data Types in Python\n",
    "Here, we will briefly cover the following data types:\n",
    "- Numeric\n",
    "- String\n",
    "- Boolean\n",
    "- List, tuple and set\n",
    "- Dictionary"
   ]
  },
  {
   "cell_type": "markdown",
   "id": "5a8d7335",
   "metadata": {},
   "source": [
    "### Numeric Data Types\n",
    "Python supports **integers**, **floats** and **complex numbers**."
   ]
  },
  {
   "cell_type": "code",
   "execution_count": 3,
   "id": "81db045f",
   "metadata": {},
   "outputs": [
    {
     "name": "stdout",
     "output_type": "stream",
     "text": [
      "<class 'int'>\n",
      "<class 'float'>\n",
      "<class 'complex'>\n"
     ]
    }
   ],
   "source": [
    "age = 32 # Integer\n",
    "height = 1.62 # Floating point number (float)\n",
    "complex_num = 2 + 3j # Complex number\n",
    "\n",
    "# Checking data types\n",
    "print(type(age))\n",
    "print(type(height))\n",
    "print(type(complex_num))"
   ]
  },
  {
   "cell_type": "code",
   "execution_count": 4,
   "id": "34ef8644",
   "metadata": {},
   "outputs": [
    {
     "name": "stdout",
     "output_type": "stream",
     "text": [
      "Sum: 33.62\n",
      "Product: (64+96j)\n"
     ]
    }
   ],
   "source": [
    "# You can perform arithmetic operations on numeric data\n",
    "sum_result = age + height\n",
    "product_result = age * complex_num\n",
    "\n",
    "print(\"Sum:\", sum_result)\n",
    "print(\"Product:\", product_result)"
   ]
  },
  {
   "cell_type": "markdown",
   "id": "06793ecf",
   "metadata": {},
   "source": [
    "### String Data Type\n",
    "A string represent textual data, denoted with quotation marks. (\" \")"
   ]
  },
  {
   "cell_type": "code",
   "execution_count": 5,
   "id": "5419a55b",
   "metadata": {},
   "outputs": [
    {
     "name": "stdout",
     "output_type": "stream",
     "text": [
      "Katlyn Goeujon-Mackness says: I love Python!\n"
     ]
    }
   ],
   "source": [
    "# Example of string data type\n",
    "first_name = \"Katlyn\"\n",
    "last_name = \"Goeujon-Mackness\"\n",
    "message = \"I love Python!\"\n",
    "\n",
    "print(first_name, last_name, \"says:\", message)"
   ]
  },
  {
   "cell_type": "code",
   "execution_count": 6,
   "id": "51048ed1",
   "metadata": {},
   "outputs": [
    {
     "name": "stdout",
     "output_type": "stream",
     "text": [
      "I LOVE PYTHON!\n",
      "goeujon-mackness\n",
      "I love Katlyn Goeujon-Mackness\n",
      "I love cheesecake!\n"
     ]
    }
   ],
   "source": [
    "# You can manipulate strings with functions\n",
    "print(message.upper()) # Converts message to uppercase\n",
    "print(last_name.lower()) # Converts name to lowercase\n",
    "print(message[0:6], first_name, last_name) # Takes a slice of message (Output: \"I love\")\n",
    "print(message.replace(\"Python\", \"cheesecake\")) # Replaces part of message"
   ]
  },
  {
   "cell_type": "markdown",
   "id": "0a563497",
   "metadata": {},
   "source": [
    "### Boolean Data Type\n",
    "Booleans represent True or False values, and are often used with logic operations."
   ]
  },
  {
   "cell_type": "code",
   "execution_count": 7,
   "id": "9ea67ae6",
   "metadata": {},
   "outputs": [
    {
     "name": "stdout",
     "output_type": "stream",
     "text": [
      "False\n",
      "True\n",
      "False\n"
     ]
    }
   ],
   "source": [
    "# Boolean values\n",
    "is_python_fun = True\n",
    "is_java_fun = False\n",
    "\n",
    "# Boolean operations\n",
    "print(is_python_fun and is_java_fun) \n",
    "print(is_python_fun or is_java_fun)  \n",
    "print(not is_python_fun)        "
   ]
  },
  {
   "cell_type": "code",
   "execution_count": 8,
   "id": "ea8460c6",
   "metadata": {},
   "outputs": [
    {
     "name": "stdout",
     "output_type": "stream",
     "text": [
      "True\n",
      "False\n"
     ]
    }
   ],
   "source": [
    "# Boolean evaluation\n",
    "print(10 > 5)\n",
    "print(3 == 7)"
   ]
  },
  {
   "cell_type": "markdown",
   "id": "2bc4da0d",
   "metadata": {},
   "source": [
    "### List, Tuple and Set\n",
    "Lists, tuples, and sets store collections of values, but each has different properties."
   ]
  },
  {
   "cell_type": "code",
   "execution_count": 9,
   "id": "21176439",
   "metadata": {},
   "outputs": [
    {
     "name": "stdout",
     "output_type": "stream",
     "text": [
      "['Apple', 'Banana', 'Cherry', 'Mango']\n"
     ]
    }
   ],
   "source": [
    "# List - ordered, mutable\n",
    "fruits = [\"Apple\", \"Banana\", \"Cherry\"]\n",
    "fruits.append(\"Mango\") # Add a new element to the list\n",
    "print(fruits)"
   ]
  },
  {
   "cell_type": "code",
   "execution_count": 10,
   "id": "1125dd1d",
   "metadata": {},
   "outputs": [
    {
     "name": "stdout",
     "output_type": "stream",
     "text": [
      "4\n"
     ]
    }
   ],
   "source": [
    "# Tuple - ordered, immutable\n",
    "coordinates = (4, 5)\n",
    "print(coordinates[0])"
   ]
  },
  {
   "cell_type": "code",
   "execution_count": 11,
   "id": "626696ba",
   "metadata": {},
   "outputs": [
    {
     "name": "stdout",
     "output_type": "stream",
     "text": [
      "{1, 2, 3}\n",
      "{1, 2, 3, 4}\n"
     ]
    }
   ],
   "source": [
    "# Set - unordered, unique elements\n",
    "unique_numbers = {1, 2, 3, 2, 1} # Create a set with duplicate elements\n",
    "print(unique_numbers)\n",
    "\n",
    "unique_numbers.add(4) # Add a number to the set\n",
    "print(unique_numbers)"
   ]
  },
  {
   "cell_type": "code",
   "execution_count": 14,
   "id": "84802565",
   "metadata": {},
   "outputs": [
    {
     "name": "stdout",
     "output_type": "stream",
     "text": [
      "Katlyn Goeujon-Mackness\n"
     ]
    }
   ],
   "source": [
    "# Dictionary - key-value pairs\n",
    "student = {\n",
    "    \"first_name\": \"Katlyn\",\n",
    "    \"last_name\": \"Goeujon-Mackness\",\n",
    "    \"major\": \"Data Science\",\n",
    "    \"grade\": \"A+\"\n",
    "}\n",
    "\n",
    "# Access a value by its key\n",
    "print(student[\"first_name\"], student[\"last_name\"])"
   ]
  },
  {
   "cell_type": "code",
   "execution_count": 15,
   "id": "c1a7e6fb",
   "metadata": {},
   "outputs": [
    {
     "name": "stdout",
     "output_type": "stream",
     "text": [
      "{'first_name': 'Katlyn', 'last_name': 'Goeujon-Mackness', 'major': 'Data Science', 'grade': 'A++', 'age': 32}\n"
     ]
    }
   ],
   "source": [
    "# Dictionaries and their key-value pairs are mutable\n",
    "student[\"grade\"] = \"A++\"    # Update value for \"grade\"\n",
    "student[\"age\"] = 32         # Add a new key and value\n",
    "\n",
    "print(student)"
   ]
  },
  {
   "cell_type": "markdown",
   "id": "1c9165c5",
   "metadata": {},
   "source": [
    "### Dynamic typing\n",
    "In Python, a variable can be reassigned to a different data type during execution. This is known as dynamic typing."
   ]
  },
  {
   "cell_type": "code",
   "execution_count": 16,
   "id": "045365c1",
   "metadata": {},
   "outputs": [
    {
     "name": "stdout",
     "output_type": "stream",
     "text": [
      "<class 'int'>\n",
      "<class 'str'>\n",
      "<class 'list'>\n",
      "8\n",
      "Hello, World!\n",
      "[1, 2, 3, 4]\n"
     ]
    }
   ],
   "source": [
    "x = 10          # x is an integer\n",
    "print(type(x))\n",
    "\n",
    "x = \"Hello\"     # x is now a string\n",
    "print(type(x))\n",
    "\n",
    "x = [1, 2, 3]   # x is now a list\n",
    "print(type(x))\n",
    "\n",
    "# Function demonstrating dynamic typing\n",
    "def add(a, b):\n",
    "    return a + b  # Works with numbers, strings, lists\n",
    "\n",
    "print(add(5, 3))                # Integer addition\n",
    "print(add(\"Hello, \", \"World!\")) # String concatenation\n",
    "print(add([1, 2], [3, 4]))      # List concatenation"
   ]
  },
  {
   "cell_type": "markdown",
   "id": "a58c1412",
   "metadata": {},
   "source": [
    "## Type Conversion\n",
    "Given the dynamic nature of Python variables, there are many ways to convert from one type to another. In some cases, Python does this automatically when needed (known as **implicit conversion**), but when types aren't compatible, **explicit conversion** is necessary. Proper type conversion is key to avoid unexpected errors."
   ]
  },
  {
   "cell_type": "code",
   "execution_count": 17,
   "id": "5adfe2b3",
   "metadata": {},
   "outputs": [
    {
     "name": "stdout",
     "output_type": "stream",
     "text": [
      "7.5\n",
      "<class 'float'>\n"
     ]
    }
   ],
   "source": [
    "# Implicit conversion (automatically done by Python)\n",
    "num_int = 5\n",
    "num_float = 2.5\n",
    "result = num_int + num_float  # Integer + Float results in Float\n",
    "print(result)  # Output: 7.5\n",
    "print(type(result))  # Float"
   ]
  },
  {
   "cell_type": "code",
   "execution_count": 19,
   "id": "e1fb98b8",
   "metadata": {},
   "outputs": [
    {
     "name": "stdout",
     "output_type": "stream",
     "text": [
      "10 <class 'int'>\n",
      "10.0 <class 'float'>\n",
      "False\n",
      "I am 32 years old.\n"
     ]
    }
   ],
   "source": [
    "# Explicit conversion (manual casting)\n",
    "num_str = \"10\"\n",
    "\n",
    "# Convert string to integer\n",
    "num_int = int(num_str)          \n",
    "print(num_int, type(num_int))\n",
    "\n",
    "# Convert integer to float\n",
    "num_float = float(num_int)      \n",
    "print(num_float, type(num_float))\n",
    "\n",
    "# Convert empty string to Boolean\n",
    "bool_value = bool(\"\")          \n",
    "print(bool_value) \n",
    "\n",
    "# Use str() to convert numbers to strings\n",
    "age = 32\n",
    "message = \"I am \" + str(age) + \" years old.\"\n",
    "print(message)"
   ]
  },
  {
   "cell_type": "markdown",
   "id": "32f75c91",
   "metadata": {},
   "source": [
    "## Examples\n",
    "These example demonstrates the application of variables and data types in Python."
   ]
  },
  {
   "cell_type": "markdown",
   "id": "32473545",
   "metadata": {},
   "source": [
    "### Creating and Using Variables with Different Data Types"
   ]
  },
  {
   "cell_type": "code",
   "execution_count": 20,
   "id": "9a33e8d4",
   "metadata": {},
   "outputs": [
    {
     "name": "stdout",
     "output_type": "stream",
     "text": [
      "name: Katlyn (Type: <class 'str'>)\n",
      "age: 32 (Type: <class 'int'>)\n",
      "height: 1.62 (Type: <class 'float'>)\n",
      "is_student: True (Type: <class 'bool'>)\n",
      "interests: ['running', 'knitting', 'coding'] (Type: <class 'list'>)\n"
     ]
    }
   ],
   "source": [
    "# Creating variables of any type in Python\n",
    "name = \"Katlyn\"\n",
    "age = 32\n",
    "height = 1.62\n",
    "is_student = True\n",
    "interests = [\"running\", \"knitting\", \"coding\"]\n",
    "\n",
    "# Store them in a dictionary\n",
    "person_info = {\n",
    "    \"name\": name,\n",
    "    \"age\": age,\n",
    "    \"height\": height,\n",
    "    \"is_student\": is_student,\n",
    "    \"interests\": interests\n",
    "}\n",
    "\n",
    "# Print the values and types\n",
    "for key, value in person_info.items():\n",
    "    print(f\"{key}: {value} (Type: {type(value)})\")"
   ]
  },
  {
   "cell_type": "markdown",
   "id": "666dbf67",
   "metadata": {},
   "source": [
    "### Boolean Logic with Type Conversions"
   ]
  },
  {
   "cell_type": "code",
   "execution_count": 21,
   "id": "47b497e0",
   "metadata": {},
   "outputs": [
    {
     "name": "stdout",
     "output_type": "stream",
     "text": [
      "False\n",
      "True\n",
      "True\n",
      "x is less than y\n",
      "15 <class 'int'>\n",
      "15.0 <class 'float'>\n",
      "False\n",
      "I am 30 years old.\n"
     ]
    }
   ],
   "source": [
    "# Boolean values in logic-based operations\n",
    "x = 10\n",
    "y = 20\n",
    "\n",
    "# Comparison operators return Boolean values\n",
    "print(x > y)  # False\n",
    "print(x < y)  # True\n",
    "print(x == 10)  # True\n",
    "\n",
    "# Boolean logic in control statements\n",
    "if x < y:\n",
    "    print(\"x is less than y\")\n",
    "else:\n",
    "    print(\"x is greater than or equal to y\")\n",
    "\n",
    "# Type conversion examples\n",
    "num_str = \"15\"\n",
    "num_int = int(num_str)  # Convert string to integer\n",
    "print(num_int, type(num_int))\n",
    "\n",
    "num_float = float(num_int)  # Convert integer to float\n",
    "print(num_float, type(num_float))\n",
    "\n",
    "bool_value = bool(\"\")  # Convert empty string to boolean (False)\n",
    "print(bool_value)\n",
    "\n",
    "age = 30\n",
    "message = \"I am \" + str(age) + \" years old.\"  # Convert integer to string\n",
    "print(message)\n"
   ]
  },
  {
   "cell_type": "markdown",
   "id": "5a7229ec",
   "metadata": {},
   "source": [
    "### Practical Example: E-Commerce Platform\n",
    "In an e-commerce platform, sellers can input their product prices as strings, but the system needs them to be floats in order to correctly perform calculations and optimize memory usage. This example take the prices input by the seller, adds them, and outputs the total amount."
   ]
  },
  {
   "cell_type": "code",
   "execution_count": 1,
   "id": "428b23e4",
   "metadata": {},
   "outputs": [
    {
     "name": "stdout",
     "output_type": "stream",
     "text": [
      "Total price of items: $37.78\n"
     ]
    }
   ],
   "source": [
    "# Seller enters product prices as strings\n",
    "product_prices = [\"19.99\", \"5.49\", \"12.30\"]\n",
    "\n",
    "# Convert string prices to float for calculations\n",
    "converted_prices = [float(price) for price in product_prices]\n",
    "\n",
    "# Calculate total cost of items in cart\n",
    "total_cost = sum(converted_prices)\n",
    "\n",
    "# Format the output neatly\n",
    "print(f\"Total price of items: ${total_cost:.2f}\")"
   ]
  },
  {
   "cell_type": "markdown",
   "id": "19062cf1",
   "metadata": {},
   "source": [
    "## References\n",
    "This notebook was created using concepts and examples inspired by *Python Crash Course* by Eric Matthes. \n",
    "\n",
    "For more information, you can find *Python Crash Course* here: [https://nostarch.com/pythoncrashcourse](https://nostarch.com/pythoncrashcourse).\n"
   ]
  },
  {
   "cell_type": "markdown",
   "id": "bff83b98",
   "metadata": {},
   "source": []
  }
 ],
 "metadata": {
  "kernelspec": {
   "display_name": "Python 3",
   "language": "python",
   "name": "python3"
  },
  "language_info": {
   "codemirror_mode": {
    "name": "ipython",
    "version": 3
   },
   "file_extension": ".py",
   "mimetype": "text/x-python",
   "name": "python",
   "nbconvert_exporter": "python",
   "pygments_lexer": "ipython3",
   "version": "3.12.1"
  }
 },
 "nbformat": 4,
 "nbformat_minor": 5
}
