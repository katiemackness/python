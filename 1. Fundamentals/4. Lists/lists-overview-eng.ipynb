{
 "cells": [
  {
   "cell_type": "markdown",
   "id": "0f6584f4",
   "metadata": {},
   "source": [
    "# List Manipulation in Python\n",
    "Katlyn Goeujon-Mackness\n",
    "17/05/2025\n",
    "\n",
    "## Introduction\n",
    "Lists are one of the most powerful and flexible data structures in Python. They allow you to store, modify, and manipulate collections of data efficiently. This notebook serves as a demonstration of various list manipulation techniques, showcasing my ability to handle, modify, and optimize lists in Python with clean, efficient code.\n",
    "\n",
    "### Contents\n",
    "1. [Creating Lists](#creating-lists)\n",
    "2. [Accessing List Elements](#accessing-list-elements)\n",
    "3. [Modifying Lists](#modifying-lists)\n",
    "4. [Looping through Lists](#looping-through-lists)\n",
    "5. [Organizing a List](#organizing-a-list)\n",
    "6. [Other Useful List Methods and Functions](#other-useful-list-methods-and-functions)\n",
    "7. [Nested Lists](#nested-lists)\n",
    "8. [Filtering and Mapping Lists](#filtering-and-mapping-lists)\n",
    "9. [Advanced List Manipulation](#advanced-list-manipulation)\n",
    "10. [Error Handling](#error-handling)\n",
    "11. [Dynamic Example](#dynamic-example)"
   ]
  },
  {
   "cell_type": "markdown",
   "id": "5ef8342f",
   "metadata": {},
   "source": [
    "## Creating Lists\n",
    "Lists are a flexible data structure in Python. You can use different data types as list elements."
   ]
  },
  {
   "cell_type": "code",
   "execution_count": 108,
   "id": "83146236",
   "metadata": {},
   "outputs": [
    {
     "name": "stdout",
     "output_type": "stream",
     "text": [
      "[1, 2, 3, 4, 5]\n",
      "['apple', 'banana', 'cherry']\n",
      "[3.14, 'hello', True]\n"
     ]
    }
   ],
   "source": [
    "# Creating lists with different data types\n",
    "numbers = [1, 2, 3, 4, 5]\n",
    "fruits = ['apple', 'banana', 'cherry']\n",
    "mixed = [3.14, 'hello', True]\n",
    "\n",
    "print(numbers)\n",
    "print(fruits)\n",
    "print(mixed)"
   ]
  },
  {
   "cell_type": "markdown",
   "id": "a8b4c348",
   "metadata": {},
   "source": [
    "## Accessing List Elements\n",
    "Retrieve specific list elements by indexing, stating a specific index of an element, or slicing, accessing a range of elements."
   ]
  },
  {
   "cell_type": "code",
   "execution_count": 109,
   "id": "1bdc7db9",
   "metadata": {},
   "outputs": [
    {
     "name": "stdout",
     "output_type": "stream",
     "text": [
      "apple\n",
      "cherry\n",
      "['banana', 'cherry']\n",
      "My favorite fruit is a banana!\n"
     ]
    }
   ],
   "source": [
    "# Accessing elements\n",
    "fruits = ['apple', 'banana', 'cherry']\n",
    "print(fruits[0])  # index first element\n",
    "print(fruits[-1])  # index last element\n",
    "print(fruits[1:])  # slice from index 1 to end\n",
    "\n",
    "message = f\"My favorite fruit is a {fruits[1]}!\"\n",
    "print(message)"
   ]
  },
  {
   "cell_type": "markdown",
   "id": "3bbae6d4",
   "metadata": {},
   "source": [
    "## Modifying Lists\n",
    "Lists are mutable. Items can be updated, added and removed."
   ]
  },
  {
   "cell_type": "code",
   "execution_count": 110,
   "id": "760d7242",
   "metadata": {},
   "outputs": [
    {
     "name": "stdout",
     "output_type": "stream",
     "text": [
      "['apple', 'blueberry', 'cherry']\n"
     ]
    }
   ],
   "source": [
    "# Modifying elements\n",
    "fruits = ['apple', 'banana', 'cherry']\n",
    "fruits[1] = 'blueberry'  # Replace the second item in the list\n",
    "print(fruits)"
   ]
  },
  {
   "cell_type": "code",
   "execution_count": 111,
   "id": "fa1aa81f",
   "metadata": {},
   "outputs": [
    {
     "name": "stdout",
     "output_type": "stream",
     "text": [
      "['apple', 'kiwi', 'blueberry', 'cherry', 'grape']\n"
     ]
    }
   ],
   "source": [
    "# Adding elements\n",
    "fruits.append('grape')  # Add at the end\n",
    "fruits.insert(1, 'kiwi')  # Insert at index 1\n",
    "print(fruits)"
   ]
  },
  {
   "cell_type": "code",
   "execution_count": 112,
   "id": "e3744fe5",
   "metadata": {},
   "outputs": [
    {
     "name": "stdout",
     "output_type": "stream",
     "text": [
      "['apple', 'kiwi', 'blueberry', 'cherry', 'grape', 'pineapple', 'kiwi']\n"
     ]
    }
   ],
   "source": [
    "# Add multiple elements to the end of a list\n",
    "fruits.extend(['pineapple', 'kiwi'])  \n",
    "print(fruits)"
   ]
  },
  {
   "cell_type": "code",
   "execution_count": 113,
   "id": "bfa5d9e3",
   "metadata": {},
   "outputs": [
    {
     "name": "stdout",
     "output_type": "stream",
     "text": [
      "['blueberry', 'cherry', 'grape', 'pineapple', 'kiwi']\n"
     ]
    }
   ],
   "source": [
    "# Removing elements\n",
    "fruits.remove('apple')  # Remove specific item by name\n",
    "del fruits[0]  # Delete by specified index\n",
    "print(fruits)"
   ]
  },
  {
   "cell_type": "markdown",
   "id": "1b0a3a68",
   "metadata": {},
   "source": [
    "### Removing with pop()\n",
    "The pop method removes the last element from a list, and allows you to save that element to keep working with it."
   ]
  },
  {
   "cell_type": "code",
   "execution_count": 114,
   "id": "46df4b4b",
   "metadata": {},
   "outputs": [
    {
     "name": "stdout",
     "output_type": "stream",
     "text": [
      "['apple', 'banana']\n",
      "Popped fruit: cherry\n"
     ]
    }
   ],
   "source": [
    "# Remove last element from the list with pop()\n",
    "fruits = ['apple', 'banana', 'cherry']\n",
    "\n",
    "popped_fruit = fruits.pop()  \n",
    "print(fruits)\n",
    "print(f\"Popped fruit: {popped_fruit}\")"
   ]
  },
  {
   "cell_type": "code",
   "execution_count": 115,
   "id": "5923bb67",
   "metadata": {},
   "outputs": [
    {
     "name": "stdout",
     "output_type": "stream",
     "text": [
      "['banana', 'cherry']\n",
      "Popped fruit: apple\n"
     ]
    }
   ],
   "source": [
    "# Remove a specific element from the list with pop()\n",
    "fruits = ['apple', 'banana', 'cherry']\n",
    "\n",
    "first_fruit = fruits.pop(0) # Removes the element at index 0\n",
    "print(fruits)\n",
    "print(f\"Popped fruit: {first_fruit}\")"
   ]
  },
  {
   "cell_type": "markdown",
   "id": "5095f472",
   "metadata": {},
   "source": [
    "## Looping Through Lists\n",
    "Use `for` loops and **list comprehensions** to loop through lists. The `for` loop allows you to iterate through each item in a list. List comprehensions allow you to generate a new list by applying an expression to each item. Comprehensions are often more readable and compact."
   ]
  },
  {
   "cell_type": "code",
   "execution_count": 116,
   "id": "18d500a4",
   "metadata": {},
   "outputs": [
    {
     "name": "stdout",
     "output_type": "stream",
     "text": [
      "I like apple\n",
      "I like banana\n",
      "I like cherry\n",
      "['APPLE', 'BANANA', 'CHERRY']\n"
     ]
    }
   ],
   "source": [
    "# Using for loop\n",
    "fruits = ['apple', 'banana', 'cherry']\n",
    "for fruit in fruits:\n",
    "    print(f\"I like {fruit}\") # Prints a message for each element\n",
    "\n",
    "# Using list comprehension\n",
    "# Creates a new list, applying an expression to each element\n",
    "uppercase_fruits = [fruit.upper() for fruit in fruits]\n",
    "print(uppercase_fruits)"
   ]
  },
  {
   "cell_type": "markdown",
   "id": "2dee1cc0",
   "metadata": {},
   "source": [
    "## Organizing a List\n",
    "Python provides a number of ways to organize lists depending on if you want to preserve the original order of your list, or change the order permanently."
   ]
  },
  {
   "cell_type": "markdown",
   "id": "2f8c625e",
   "metadata": {},
   "source": [
    "### Sorting a List Permanently"
   ]
  },
  {
   "cell_type": "code",
   "execution_count": 117,
   "id": "179e98d4",
   "metadata": {},
   "outputs": [
    {
     "name": "stdout",
     "output_type": "stream",
     "text": [
      "['bicycle', 'bus', 'car', 'motorcycle']\n"
     ]
    }
   ],
   "source": [
    "# List of vehicle types\n",
    "vehicles = [\"car\", \"motorcycle\", \"bicycle\", \"bus\"]\n",
    "\n",
    "# Sorts elements alphabetically\n",
    "vehicles.sort() \n",
    "print(vehicles)"
   ]
  },
  {
   "cell_type": "code",
   "execution_count": 118,
   "id": "8cf602fa",
   "metadata": {},
   "outputs": [
    {
     "name": "stdout",
     "output_type": "stream",
     "text": [
      "['motorcycle', 'car', 'bus', 'bicycle']\n"
     ]
    }
   ],
   "source": [
    "# Reverse-sorts elements alphabetically\n",
    "vehicles.sort(reverse=True)  \n",
    "print(vehicles)"
   ]
  },
  {
   "cell_type": "code",
   "execution_count": 119,
   "id": "b99de584",
   "metadata": {},
   "outputs": [
    {
     "name": "stdout",
     "output_type": "stream",
     "text": [
      "['bus', 'bicycle', 'motorcycle', 'car']\n"
     ]
    }
   ],
   "source": [
    "# Print a list in reverse order (permanently)\n",
    "vehicles = [\"car\", \"motorcycle\", \"bicycle\", \"bus\"]\n",
    "\n",
    "vehicles.reverse()\n",
    "print(vehicles)"
   ]
  },
  {
   "cell_type": "markdown",
   "id": "b20f3df1",
   "metadata": {},
   "source": [
    "### Sorting a List Temporarily\n",
    "The sorted() function lets you work with a a sorted version of the list without making permanent changes to the list."
   ]
  },
  {
   "cell_type": "code",
   "execution_count": 120,
   "id": "8af1eaa0",
   "metadata": {},
   "outputs": [
    {
     "name": "stdout",
     "output_type": "stream",
     "text": [
      "Original list:\n",
      "['car', 'motorcycle', 'bicycle', 'bus']\n",
      "Sorted list:\n",
      "['bicycle', 'bus', 'car', 'motorcycle']\n",
      "Original list again:\n",
      "['car', 'motorcycle', 'bicycle', 'bus']\n"
     ]
    }
   ],
   "source": [
    "vehicles = [\"car\", \"motorcycle\", \"bicycle\", \"bus\"]\n",
    "\n",
    "print(\"Original list:\")\n",
    "print(vehicles) # Prints the list unchanged\n",
    "\n",
    "print(\"Sorted list:\")\n",
    "print(sorted(vehicles)) # Prints the sorted version of the list\n",
    "\n",
    "print(\"Original list again:\")\n",
    "print(vehicles) # Demonstrates that the original state is preserved"
   ]
  },
  {
   "cell_type": "markdown",
   "id": "cde448bd",
   "metadata": {},
   "source": [
    "## Other Useful List Methods and Functions\n",
    "Examples of common list methods and built-in list functions."
   ]
  },
  {
   "cell_type": "code",
   "execution_count": 121,
   "id": "7cd48915",
   "metadata": {},
   "outputs": [
    {
     "name": "stdout",
     "output_type": "stream",
     "text": [
      "[5, 3, 8, 1]\n",
      "Number of elements: 4\n",
      "Lowest number: 1\n",
      "Highest number: 8\n"
     ]
    }
   ],
   "source": [
    "# Common list functions and methods\n",
    "numbers = [5, 3, 8, 1]\n",
    "print(numbers)\n",
    "\n",
    "# Count the number of elements\n",
    "print(f\"Number of elements: {len(numbers)}\")  \n",
    "\n",
    "# List functions and methods with numbers\n",
    "print(f\"Lowest number: {min(numbers)}\")  # Print the lowest number\n",
    "print(f\"Highest number: {max(numbers)}\")  # Print the highest number"
   ]
  },
  {
   "cell_type": "markdown",
   "id": "2c2c9051",
   "metadata": {},
   "source": [
    "## Nested Lists\n",
    "Python allows you to handle more complex data structures, such as matrices, with lists within lists."
   ]
  },
  {
   "cell_type": "code",
   "execution_count": 122,
   "id": "5a84e004",
   "metadata": {},
   "outputs": [
    {
     "name": "stdout",
     "output_type": "stream",
     "text": [
      "6\n"
     ]
    }
   ],
   "source": [
    "# Nested lists\n",
    "matrix = [\n",
    "    [1, 2, 3],\n",
    "    [4, 5, 6],\n",
    "    [7, 8, 9]\n",
    "]\n",
    "\n",
    "# Access row 1, column 2\n",
    "print(matrix[1][2])  "
   ]
  },
  {
   "cell_type": "markdown",
   "id": "14903d55",
   "metadata": {},
   "source": [
    "## Filtering and Mapping Lists\n",
    "Using `filter()`, **list comprehensions** and `map()` to modify list content dynamically."
   ]
  },
  {
   "cell_type": "code",
   "execution_count": 123,
   "id": "cafe2091",
   "metadata": {},
   "outputs": [
    {
     "name": "stdout",
     "output_type": "stream",
     "text": [
      "Even numbers: [2, 4, 6, 8, 10]\n"
     ]
    }
   ],
   "source": [
    "# filter() excludes elements that do not meet the condition\n",
    "numbers = [1, 2, 3, 4, 5, 6, 7, 8, 9, 10]\n",
    "\n",
    "# Filter out odd numbers to keep only the even numbers\n",
    "even_numbers = list(filter(lambda x: x % 2 == 0, numbers))\n",
    "print(\"Even numbers:\", even_numbers)"
   ]
  },
  {
   "cell_type": "code",
   "execution_count": 124,
   "id": "380f3847",
   "metadata": {},
   "outputs": [
    {
     "name": "stdout",
     "output_type": "stream",
     "text": [
      "Even numbers: [2, 4, 6, 8, 10]\n"
     ]
    }
   ],
   "source": [
    "# The same thing can be achieved with list comprehensions\n",
    "even_numbers_2 = [num for num in numbers if num % 2 == 0]\n",
    "print(\"Even numbers:\", even_numbers_2)"
   ]
  },
  {
   "cell_type": "code",
   "execution_count": 125,
   "id": "905aca41",
   "metadata": {},
   "outputs": [
    {
     "name": "stdout",
     "output_type": "stream",
     "text": [
      "Squared numbers: [1, 4, 9, 16, 25, 36, 49, 64, 81, 100]\n"
     ]
    }
   ],
   "source": [
    "# map() applies a transformation to every element in the list\n",
    "squared_numbers = list(map(lambda x: x ** 2, numbers))\n",
    "print(\"Squared numbers:\", squared_numbers)"
   ]
  },
  {
   "cell_type": "markdown",
   "id": "ca1aaef5",
   "metadata": {},
   "source": [
    "## Advanced List Manipulations\n",
    "Python allows you to unpack and merge lists, as well as combine multiple lists.\n",
    "### Unpacking Lists"
   ]
  },
  {
   "cell_type": "code",
   "execution_count": 126,
   "id": "31dd7b57",
   "metadata": {},
   "outputs": [
    {
     "name": "stdout",
     "output_type": "stream",
     "text": [
      "Name: Katlyn, Age: 32, Profession: Data Scientist\n"
     ]
    }
   ],
   "source": [
    "# Unpacking a list into individual variables\n",
    "user = [\"Katlyn\", 32, \"Data Scientist\"]\n",
    "name, age, profession = user\n",
    "\n",
    "print(f\"Name: {name}, Age: {age}, Profession: {profession}\")"
   ]
  },
  {
   "cell_type": "markdown",
   "id": "ff449eb7",
   "metadata": {},
   "source": [
    "### Merging Lists"
   ]
  },
  {
   "cell_type": "code",
   "execution_count": 127,
   "id": "63a7d44a",
   "metadata": {},
   "outputs": [
    {
     "name": "stdout",
     "output_type": "stream",
     "text": [
      "[1, 2, 3, 4, 5, 6]\n"
     ]
    }
   ],
   "source": [
    "# Merging lists using `+` operator\n",
    "list1 = [1, 2, 3]\n",
    "list2 = [4, 5, 6]\n",
    "\n",
    "new_list = list1 + list2\n",
    "print(new_list) "
   ]
  },
  {
   "cell_type": "code",
   "execution_count": 128,
   "id": "d2579a3c",
   "metadata": {},
   "outputs": [
    {
     "name": "stdout",
     "output_type": "stream",
     "text": [
      "[1, 2, 3, 4, 5, 6]\n"
     ]
    }
   ],
   "source": [
    "# Merging lists using extend()\n",
    "list1 = [1, 2, 3]\n",
    "list2 = [4, 5, 6]\n",
    "\n",
    "list1.extend(list2)\n",
    "print(list1)  "
   ]
  },
  {
   "cell_type": "markdown",
   "id": "5e0f0659",
   "metadata": {},
   "source": [
    "### Combining Multiple Lists"
   ]
  },
  {
   "cell_type": "code",
   "execution_count": 129,
   "id": "24c58a75",
   "metadata": {},
   "outputs": [
    {
     "name": "stdout",
     "output_type": "stream",
     "text": [
      "[('A', 1), ('B', 2), ('C', 3)]\n"
     ]
    }
   ],
   "source": [
    "# Use zip() for alternative merge\n",
    "list1 = [\"A\", \"B\", \"C\"]\n",
    "list2 = [1, 2, 3]\n",
    "\n",
    "new_list = list(zip(list1, list2))\n",
    "print(new_list) "
   ]
  },
  {
   "cell_type": "code",
   "execution_count": 130,
   "id": "b9768916",
   "metadata": {},
   "outputs": [
    {
     "name": "stdout",
     "output_type": "stream",
     "text": [
      "[1, 2, 3, 4, 5, 6]\n"
     ]
    }
   ],
   "source": [
    "# Flattening nested lists\n",
    "nested_list = [[1, 2], [3, 4], [5, 6]]\n",
    "\n",
    "new_list = [item for sublist in nested_list for item in sublist]\n",
    "print(new_list) "
   ]
  },
  {
   "cell_type": "markdown",
   "id": "068e404a",
   "metadata": {},
   "source": [
    "## Error Handling\n",
    "In Python, \"IndexError\" is a common error that occurs when you try to access an index in a list that is out of range. This typically happens when you attempt to access an element at a position that doesn’t exist. Avoid this issue by using negative indices to access items at the end of a list."
   ]
  },
  {
   "cell_type": "code",
   "execution_count": 131,
   "id": "9645b7ca",
   "metadata": {},
   "outputs": [
    {
     "ename": "IndexError",
     "evalue": "list index out of range",
     "output_type": "error",
     "traceback": [
      "\u001b[31m---------------------------------------------------------------------------\u001b[39m",
      "\u001b[31mIndexError\u001b[39m                                Traceback (most recent call last)",
      "\u001b[36mCell\u001b[39m\u001b[36m \u001b[39m\u001b[32mIn[131]\u001b[39m\u001b[32m, line 3\u001b[39m\n\u001b[32m      1\u001b[39m \u001b[38;5;66;03m# Raise an IndexError\u001b[39;00m\n\u001b[32m      2\u001b[39m fruits = [\u001b[33m'\u001b[39m\u001b[33mapple\u001b[39m\u001b[33m'\u001b[39m, \u001b[33m'\u001b[39m\u001b[33mbanana\u001b[39m\u001b[33m'\u001b[39m, \u001b[33m'\u001b[39m\u001b[33mcherry\u001b[39m\u001b[33m'\u001b[39m]\n\u001b[32m----> \u001b[39m\u001b[32m3\u001b[39m \u001b[38;5;28mprint\u001b[39m(\u001b[43mfruits\u001b[49m\u001b[43m[\u001b[49m\u001b[32;43m5\u001b[39;49m\u001b[43m]\u001b[49m)  \u001b[38;5;66;03m# Index 5 is out of range\u001b[39;00m\n",
      "\u001b[31mIndexError\u001b[39m: list index out of range"
     ]
    }
   ],
   "source": [
    "# Raise an IndexError\n",
    "fruits = ['apple', 'banana', 'cherry']\n",
    "print(fruits[5])  # Index 5 is out of range"
   ]
  },
  {
   "cell_type": "code",
   "execution_count": null,
   "id": "e0fb1fc4",
   "metadata": {},
   "outputs": [
    {
     "name": "stdout",
     "output_type": "stream",
     "text": [
      "cherry\n"
     ]
    }
   ],
   "source": [
    "# Use a negative index to access the last item on the list\n",
    "print(fruits[-1])"
   ]
  },
  {
   "cell_type": "markdown",
   "id": "bdc550a0",
   "metadata": {},
   "source": [
    "## Dynamic Example"
   ]
  },
  {
   "cell_type": "code",
   "execution_count": null,
   "id": "e0abc3d0",
   "metadata": {},
   "outputs": [
    {
     "name": "stdout",
     "output_type": "stream",
     "text": [
      "\n",
      "Dear Arnold ,\n",
      "Would you like to come to dinner? Jan and Michael are going to be there!!\n",
      "Love,\n",
      "Katie\n",
      "\n",
      "Dear Marnold ,\n",
      "Would you like to come to dinner? Jan and Michael are going to be there!!\n",
      "Love,\n",
      "Katie\n",
      "\n",
      "Dear Parnold ,\n",
      "Would you like to come to dinner? Jan and Michael are going to be there!!\n",
      "Love,\n",
      "Katie\n"
     ]
    }
   ],
   "source": [
    "# ---------------------------------------------------------\n",
    "# Guest List\n",
    "# Create a party guest list and send a message to each guest \n",
    "#   to invite them to the party.\n",
    "# ---------------------------------------------------------\n",
    "\n",
    "# Create guest list and a message\n",
    "guests = ['Arnold','Marnold','Parnold']\n",
    "message_1 = \"\\nDear\"\n",
    "message_2 = \",\\nWould you like to come to dinner? Jan and Michael are going to be there!!\\nLove,\\nKatie\"\n",
    "\n",
    "# Print an invitation for each guest\n",
    "for guest in guests:\n",
    "    print(message_1, guest, message_2)"
   ]
  },
  {
   "cell_type": "code",
   "execution_count": null,
   "id": "8ba333bd",
   "metadata": {},
   "outputs": [
    {
     "name": "stdout",
     "output_type": "stream",
     "text": [
      "\n",
      "Dear Jonathan ,\n",
      "Would you like to come to dinner? Jan and Michael are going to be there!!\n",
      "Love,\n",
      "Katie\n",
      "P.S. We have found a bigger table! We're adding more guests to the list :)\n",
      "\n",
      "Dear Arnold ,\n",
      "Would you like to come to dinner? Jan and Michael are going to be there!!\n",
      "Love,\n",
      "Katie\n",
      "P.S. We have found a bigger table! We're adding more guests to the list :)\n",
      "\n",
      "Dear Parnold ,\n",
      "Would you like to come to dinner? Jan and Michael are going to be there!!\n",
      "Love,\n",
      "Katie\n",
      "P.S. We have found a bigger table! We're adding more guests to the list :)\n",
      "\n",
      "Dear Jenny ,\n",
      "Would you like to come to dinner? Jan and Michael are going to be there!!\n",
      "Love,\n",
      "Katie\n",
      "P.S. We have found a bigger table! We're adding more guests to the list :)\n",
      "\n",
      "Dear Monathan ,\n",
      "Would you like to come to dinner? Jan and Michael are going to be there!!\n",
      "Love,\n",
      "Katie\n",
      "P.S. We have found a bigger table! We're adding more guests to the list :)\n"
     ]
    }
   ],
   "source": [
    "\n",
    "# Remove one guest and add a different one.\n",
    "guests.remove('Marnold')\n",
    "guests.append('Jenny')\n",
    "\n",
    "\n",
    "# Add more guests to the list\n",
    "#  and send a revised message to each guest\n",
    "guests.insert(0,'Jonathan')\n",
    "guests.append('Monathan')\n",
    "\n",
    "message_2 = f\"{message_2}\\nP.S. We have found a bigger table! We're adding more guests to the list :)\"\n",
    "\n",
    "for guest in guests:\n",
    "    print(message_1,guest,message_2)\n"
   ]
  },
  {
   "cell_type": "code",
   "execution_count": null,
   "id": "bb44d4f2",
   "metadata": {},
   "outputs": [
    {
     "name": "stdout",
     "output_type": "stream",
     "text": [
      "Sorry, Monathan, you can't come to dinner anymore. :(\n",
      "Sorry, Jenny, you can't come to dinner anymore. :(\n",
      "Sorry, Parnold, you can't come to dinner anymore. :(\n",
      "Sorry, Arnold, you can't come to dinner anymore. :(\n",
      "Sorry, Jonathan, you can't come to dinner anymore. :(\n"
     ]
    }
   ],
   "source": [
    "# Not enough room. Uninvite the last 5 guests.\n",
    "popped = [guests.pop() for _ in range(5)]\n",
    "\n",
    "for guest in popped:\n",
    "    print(f\"Sorry, {guest}, you can't come to dinner anymore. :(\")"
   ]
  },
  {
   "cell_type": "code",
   "execution_count": null,
   "id": "23acb1d7",
   "metadata": {},
   "outputs": [],
   "source": [
    "\n",
    "# Tell the remaining guests they are still invited.\n",
    "for guest in guests:\n",
    "    print(f\"Dear {guest}, everyone else is uninvited, but you are still invited! Woohoo!\")"
   ]
  },
  {
   "cell_type": "code",
   "execution_count": null,
   "id": "340fc831",
   "metadata": {},
   "outputs": [
    {
     "name": "stdout",
     "output_type": "stream",
     "text": [
      "[]\n"
     ]
    }
   ],
   "source": [
    "# Party is cancelled. Remove the remaining guests from the list.\n",
    "guests.clear()\n",
    "print(guests)"
   ]
  },
  {
   "cell_type": "markdown",
   "id": "2ad5c976",
   "metadata": {},
   "source": [
    "## Conclusion\n",
    "Mastering list manipulation enhances the ability to handle structured data efficiently, making more efficient Python programming. This notebook has shown examples of my ability to work proficiently with lists and optimize code performance.\n",
    "\n",
    "### References\n",
    "This notebook was created using concepts and examples inspired by *Python Crash Course* by Eric Matthes. \n",
    "\n",
    "For more information, you can find *Python Crash Course* here: [https://nostarch.com/pythoncrashcourse](https://nostarch.com/pythoncrashcourse).\n"
   ]
  },
  {
   "cell_type": "markdown",
   "id": "d4c17389",
   "metadata": {},
   "source": []
  }
 ],
 "metadata": {
  "kernelspec": {
   "display_name": "Python 3",
   "language": "python",
   "name": "python3"
  },
  "language_info": {
   "codemirror_mode": {
    "name": "ipython",
    "version": 3
   },
   "file_extension": ".py",
   "mimetype": "text/x-python",
   "name": "python",
   "nbconvert_exporter": "python",
   "pygments_lexer": "ipython3",
   "version": "3.12.1"
  }
 },
 "nbformat": 4,
 "nbformat_minor": 5
}
